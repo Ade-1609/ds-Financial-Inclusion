{
 "cells": [
  {
   "cell_type": "code",
   "execution_count": 1,
   "id": "550973fc-64cf-4ca0-9a53-06085e3404aa",
   "metadata": {
    "tags": []
   },
   "outputs": [],
   "source": [
    "import pandas as pd\n",
    "import numpy as np\n",
    "import seaborn as sns\n",
    "import matplotlib.pyplot as plt\n",
    "\n",
    "# machine learning\n",
    "from sklearn.model_selection import train_test_split\n",
    "from sklearn.metrics import accuracy_score\n",
    "from sklearn.preprocessing import LabelEncoder\n",
    "from sklearn.preprocessing import (\n",
    "    OneHotEncoder,\n",
    "    StandardScaler,\n",
    "    MinMaxScaler, \n",
    "    PolynomialFeatures,\n",
    "    KBinsDiscretizer\n",
    ")\n",
<<<<<<< HEAD
    "from xgboost import XGBClassifier\n",
    "from imblearn.under_sampling import RandomUnderSampler\n",
    "from imblearn.pipeline import Pipeline as ImbPipeline\n",
    "from imblearn.over_sampling import SMOTE\n",
=======
>>>>>>> 0d0c885b2f88f61799e66ab47f1771d3e0ca0491
    "from sklearn.ensemble import RandomForestClassifier\n",
    "from sklearn.impute import SimpleImputer\n",
    "from sklearn.compose import ColumnTransformer\n",
    "from sklearn.pipeline import Pipeline\n",
    "from sklearn.neighbors import KNeighborsClassifier\n",
    "from sklearn.metrics import confusion_matrix, classification_report, accuracy_score\n",
    "from sklearn.linear_model import LogisticRegression\n",
    "import warnings\n",
    "warnings.filterwarnings('ignore')"
   ]
  },
  {
   "cell_type": "code",
   "execution_count": 2,
   "id": "48772f75-4fb0-42ff-9adb-0b284a0d60da",
   "metadata": {
    "tags": []
   },
   "outputs": [
    {
     "data": {
      "text/html": [
       "<div>\n",
       "<style scoped>\n",
       "    .dataframe tbody tr th:only-of-type {\n",
       "        vertical-align: middle;\n",
       "    }\n",
       "\n",
       "    .dataframe tbody tr th {\n",
       "        vertical-align: top;\n",
       "    }\n",
       "\n",
       "    .dataframe thead th {\n",
       "        text-align: right;\n",
       "    }\n",
       "</style>\n",
       "<table border=\"1\" class=\"dataframe\">\n",
       "  <thead>\n",
       "    <tr style=\"text-align: right;\">\n",
       "      <th></th>\n",
       "      <th>country</th>\n",
       "      <th>year</th>\n",
       "      <th>uniqueid</th>\n",
       "      <th>bank_account</th>\n",
       "      <th>location_type</th>\n",
       "      <th>cellphone_access</th>\n",
       "      <th>household_size</th>\n",
       "      <th>age_of_respondent</th>\n",
       "      <th>gender_of_respondent</th>\n",
       "      <th>relationship_with_head</th>\n",
       "      <th>marital_status</th>\n",
       "      <th>education_level</th>\n",
       "      <th>job_type</th>\n",
       "    </tr>\n",
       "  </thead>\n",
       "  <tbody>\n",
       "    <tr>\n",
       "      <th>0</th>\n",
       "      <td>Kenya</td>\n",
       "      <td>2018</td>\n",
       "      <td>uniqueid_1</td>\n",
       "      <td>Yes</td>\n",
       "      <td>Rural</td>\n",
       "      <td>Yes</td>\n",
       "      <td>3</td>\n",
       "      <td>24</td>\n",
       "      <td>Female</td>\n",
       "      <td>Spouse</td>\n",
       "      <td>Married/Living together</td>\n",
       "      <td>Secondary education</td>\n",
       "      <td>Self employed</td>\n",
       "    </tr>\n",
       "    <tr>\n",
       "      <th>1</th>\n",
       "      <td>Kenya</td>\n",
       "      <td>2018</td>\n",
       "      <td>uniqueid_2</td>\n",
       "      <td>No</td>\n",
       "      <td>Rural</td>\n",
       "      <td>No</td>\n",
       "      <td>5</td>\n",
       "      <td>70</td>\n",
       "      <td>Female</td>\n",
       "      <td>Head of Household</td>\n",
       "      <td>Widowed</td>\n",
       "      <td>No formal education</td>\n",
       "      <td>Government Dependent</td>\n",
       "    </tr>\n",
       "    <tr>\n",
       "      <th>2</th>\n",
       "      <td>Kenya</td>\n",
       "      <td>2018</td>\n",
       "      <td>uniqueid_3</td>\n",
       "      <td>Yes</td>\n",
       "      <td>Urban</td>\n",
       "      <td>Yes</td>\n",
       "      <td>5</td>\n",
       "      <td>26</td>\n",
       "      <td>Male</td>\n",
       "      <td>Other relative</td>\n",
       "      <td>Single/Never Married</td>\n",
       "      <td>Vocational/Specialised training</td>\n",
       "      <td>Self employed</td>\n",
       "    </tr>\n",
       "    <tr>\n",
       "      <th>3</th>\n",
       "      <td>Kenya</td>\n",
       "      <td>2018</td>\n",
       "      <td>uniqueid_4</td>\n",
       "      <td>No</td>\n",
       "      <td>Rural</td>\n",
       "      <td>Yes</td>\n",
       "      <td>5</td>\n",
       "      <td>34</td>\n",
       "      <td>Female</td>\n",
       "      <td>Head of Household</td>\n",
       "      <td>Married/Living together</td>\n",
       "      <td>Primary education</td>\n",
       "      <td>Formally employed Private</td>\n",
       "    </tr>\n",
       "    <tr>\n",
       "      <th>4</th>\n",
       "      <td>Kenya</td>\n",
       "      <td>2018</td>\n",
       "      <td>uniqueid_5</td>\n",
       "      <td>No</td>\n",
       "      <td>Urban</td>\n",
       "      <td>No</td>\n",
       "      <td>8</td>\n",
       "      <td>26</td>\n",
       "      <td>Male</td>\n",
       "      <td>Child</td>\n",
       "      <td>Single/Never Married</td>\n",
       "      <td>Primary education</td>\n",
       "      <td>Informally employed</td>\n",
       "    </tr>\n",
       "  </tbody>\n",
       "</table>\n",
       "</div>"
      ],
      "text/plain": [
       "  country  year    uniqueid bank_account location_type cellphone_access   \n",
       "0   Kenya  2018  uniqueid_1          Yes         Rural              Yes  \\\n",
       "1   Kenya  2018  uniqueid_2           No         Rural               No   \n",
       "2   Kenya  2018  uniqueid_3          Yes         Urban              Yes   \n",
       "3   Kenya  2018  uniqueid_4           No         Rural              Yes   \n",
       "4   Kenya  2018  uniqueid_5           No         Urban               No   \n",
       "\n",
       "   household_size  age_of_respondent gender_of_respondent   \n",
       "0               3                 24               Female  \\\n",
       "1               5                 70               Female   \n",
       "2               5                 26                 Male   \n",
       "3               5                 34               Female   \n",
       "4               8                 26                 Male   \n",
       "\n",
       "  relationship_with_head           marital_status   \n",
       "0                 Spouse  Married/Living together  \\\n",
       "1      Head of Household                  Widowed   \n",
       "2         Other relative     Single/Never Married   \n",
       "3      Head of Household  Married/Living together   \n",
       "4                  Child     Single/Never Married   \n",
       "\n",
       "                   education_level                   job_type  \n",
       "0              Secondary education              Self employed  \n",
       "1              No formal education       Government Dependent  \n",
       "2  Vocational/Specialised training              Self employed  \n",
       "3                Primary education  Formally employed Private  \n",
       "4                Primary education        Informally employed  "
      ]
     },
     "execution_count": 2,
     "metadata": {},
     "output_type": "execute_result"
    }
   ],
   "source": [
    "fina = pd.read_csv('data/Train.csv')\n",
    "fina.head()"
   ]
  },
  {
   "cell_type": "code",
   "execution_count": 3,
<<<<<<< HEAD
   "id": "a70c3a29-96c1-44d9-a618-4057997f744f",
   "metadata": {
    "tags": []
   },
   "outputs": [
    {
     "name": "stdout",
     "output_type": "stream",
     "text": [
      "(23524, 13)\n"
     ]
    }
   ],
   "source": [
    "print(fina.shape)"
   ]
  },
  {
   "cell_type": "code",
   "execution_count": 4,
=======
>>>>>>> 0d0c885b2f88f61799e66ab47f1771d3e0ca0491
   "id": "287d8d0d-aefc-49bb-bdf9-1bbbce7d6840",
   "metadata": {
    "tags": []
   },
   "outputs": [],
   "source": [
<<<<<<< HEAD
    "finan = fina.drop(['country','year','uniqueid','relationship_with_head'], axis=1)"
=======
    "fina = fina.drop(['country','year','uniqueid','relationship_with_head'], axis=1)"
>>>>>>> 0d0c885b2f88f61799e66ab47f1771d3e0ca0491
   ]
  },
  {
   "cell_type": "code",
<<<<<<< HEAD
   "execution_count": 5,
   "id": "e1750941-a6b9-47f4-b319-9ac3d850af00",
   "metadata": {
    "tags": []
   },
   "outputs": [
    {
     "data": {
      "text/html": [
       "<div>\n",
       "<style scoped>\n",
       "    .dataframe tbody tr th:only-of-type {\n",
       "        vertical-align: middle;\n",
       "    }\n",
       "\n",
       "    .dataframe tbody tr th {\n",
       "        vertical-align: top;\n",
       "    }\n",
       "\n",
       "    .dataframe thead th {\n",
       "        text-align: right;\n",
       "    }\n",
       "</style>\n",
       "<table border=\"1\" class=\"dataframe\">\n",
       "  <thead>\n",
       "    <tr style=\"text-align: right;\">\n",
       "      <th></th>\n",
       "      <th>household_size</th>\n",
       "      <th>age_of_respondent</th>\n",
       "    </tr>\n",
       "  </thead>\n",
       "  <tbody>\n",
       "    <tr>\n",
       "      <th>count</th>\n",
       "      <td>23524.000000</td>\n",
       "      <td>23524.000000</td>\n",
       "    </tr>\n",
       "    <tr>\n",
       "      <th>mean</th>\n",
       "      <td>3.797483</td>\n",
       "      <td>38.805220</td>\n",
       "    </tr>\n",
       "    <tr>\n",
       "      <th>std</th>\n",
       "      <td>2.227613</td>\n",
       "      <td>16.520569</td>\n",
       "    </tr>\n",
       "    <tr>\n",
       "      <th>min</th>\n",
       "      <td>1.000000</td>\n",
       "      <td>16.000000</td>\n",
       "    </tr>\n",
       "    <tr>\n",
       "      <th>25%</th>\n",
       "      <td>2.000000</td>\n",
       "      <td>26.000000</td>\n",
       "    </tr>\n",
       "    <tr>\n",
       "      <th>50%</th>\n",
       "      <td>3.000000</td>\n",
       "      <td>35.000000</td>\n",
       "    </tr>\n",
       "    <tr>\n",
       "      <th>75%</th>\n",
       "      <td>5.000000</td>\n",
       "      <td>49.000000</td>\n",
       "    </tr>\n",
       "    <tr>\n",
       "      <th>max</th>\n",
       "      <td>21.000000</td>\n",
       "      <td>100.000000</td>\n",
       "    </tr>\n",
       "  </tbody>\n",
       "</table>\n",
       "</div>"
      ],
      "text/plain": [
       "       household_size  age_of_respondent\n",
       "count    23524.000000       23524.000000\n",
       "mean         3.797483          38.805220\n",
       "std          2.227613          16.520569\n",
       "min          1.000000          16.000000\n",
       "25%          2.000000          26.000000\n",
       "50%          3.000000          35.000000\n",
       "75%          5.000000          49.000000\n",
       "max         21.000000         100.000000"
      ]
     },
     "execution_count": 5,
     "metadata": {},
     "output_type": "execute_result"
    }
   ],
   "source": [
    "finan.describe()"
   ]
  },
  {
   "cell_type": "code",
   "execution_count": 6,
   "id": "a26efd91-b14d-4134-b0e2-591ecb57f72e",
   "metadata": {
    "tags": []
   },
   "outputs": [
    {
     "data": {
      "text/plain": [
       "bank_account\n",
       "No     20212\n",
       "Yes     3312\n",
       "Name: count, dtype: int64"
      ]
     },
     "execution_count": 6,
     "metadata": {},
     "output_type": "execute_result"
    }
   ],
   "source": [
    "finan.value_counts('bank_account')"
   ]
  },
  {
   "cell_type": "code",
   "execution_count": 7,
   "id": "6a26f152-6436-4a56-86ab-3974394bee42",
   "metadata": {
    "tags": []
   },
   "outputs": [
    {
     "data": {
      "text/plain": [
       "<Axes: xlabel='bank_account', ylabel='count'>"
      ]
     },
     "execution_count": 7,
     "metadata": {},
     "output_type": "execute_result"
    },
    {
     "data": {
      "image/png": "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",
      "text/plain": [
       "<Figure size 640x480 with 1 Axes>"
      ]
     },
     "metadata": {},
     "output_type": "display_data"
    }
   ],
   "source": [
    "sns.countplot(x='bank_account', data=finan)"
   ]
  },
  {
   "cell_type": "code",
   "execution_count": 8,
=======
   "execution_count": 4,
>>>>>>> 0d0c885b2f88f61799e66ab47f1771d3e0ca0491
   "id": "cf957e51-2aab-4922-a99a-b5004822769f",
   "metadata": {
    "tags": []
   },
   "outputs": [],
   "source": [
    "le = LabelEncoder()\n",
<<<<<<< HEAD
    "finan['bank_account'] = le.fit_transform(finan['bank_account'])\n",
    "\n",
    "X = finan.drop('bank_account', axis=1)\n",
    "y = finan['bank_account']"
=======
    "fina['bank_account'] = le.fit_transform(fina['bank_account'])\n",
    "\n",
    "X = fina.drop('bank_account', axis=1)\n",
    "y = fina['bank_account']"
>>>>>>> 0d0c885b2f88f61799e66ab47f1771d3e0ca0491
   ]
  },
  {
   "cell_type": "code",
<<<<<<< HEAD
   "execution_count": 9,
=======
   "execution_count": 5,
>>>>>>> 0d0c885b2f88f61799e66ab47f1771d3e0ca0491
   "id": "640f8cd5-d1d9-46ab-8a1f-9405ff4d2927",
   "metadata": {
    "tags": []
   },
   "outputs": [
    {
     "data": {
      "text/plain": [
       "bank_account             int64\n",
       "location_type           object\n",
       "cellphone_access        object\n",
       "household_size           int64\n",
       "age_of_respondent        int64\n",
       "gender_of_respondent    object\n",
       "marital_status          object\n",
       "education_level         object\n",
       "job_type                object\n",
       "dtype: object"
      ]
     },
<<<<<<< HEAD
     "execution_count": 9,
=======
     "execution_count": 5,
>>>>>>> 0d0c885b2f88f61799e66ab47f1771d3e0ca0491
     "metadata": {},
     "output_type": "execute_result"
    }
   ],
   "source": [
<<<<<<< HEAD
    "finan.dtypes"
=======
    "fina.dtypes"
>>>>>>> 0d0c885b2f88f61799e66ab47f1771d3e0ca0491
   ]
  },
  {
   "cell_type": "code",
<<<<<<< HEAD
   "execution_count": 10,
=======
   "execution_count": 6,
>>>>>>> 0d0c885b2f88f61799e66ab47f1771d3e0ca0491
   "id": "10aae30e-72e9-476c-98ef-eee91d0ec406",
   "metadata": {
    "tags": []
   },
   "outputs": [],
   "source": [
<<<<<<< HEAD
    "X_train, X_test,y_train, y_test = train_test_split(X,y , test_size= 0.20, random_state=42, stratify=y)"
=======
    "X_train, X_test,y_train, y_test = train_test_split(X,y , test_size= 0.30, stratify=y)"
>>>>>>> 0d0c885b2f88f61799e66ab47f1771d3e0ca0491
   ]
  },
  {
   "cell_type": "code",
<<<<<<< HEAD
   "execution_count": 11,
=======
   "execution_count": 7,
>>>>>>> 0d0c885b2f88f61799e66ab47f1771d3e0ca0491
   "id": "f7935284-42f0-437f-97d2-3a954d2e5752",
   "metadata": {
    "tags": []
   },
   "outputs": [
    {
     "data": {
      "text/plain": [
       "['household_size', 'age_of_respondent']"
      ]
     },
<<<<<<< HEAD
     "execution_count": 11,
=======
     "execution_count": 7,
>>>>>>> 0d0c885b2f88f61799e66ab47f1771d3e0ca0491
     "metadata": {},
     "output_type": "execute_result"
    }
   ],
   "source": [
    "num_features = list(X_train.select_dtypes(exclude=['object']).columns)\n",
    "num_features"
   ]
  },
  {
   "cell_type": "code",
<<<<<<< HEAD
   "execution_count": 12,
=======
   "execution_count": 8,
>>>>>>> 0d0c885b2f88f61799e66ab47f1771d3e0ca0491
   "id": "deb56dd6-7d55-455f-83ef-5e01080bcc8a",
   "metadata": {
    "tags": []
   },
   "outputs": [
    {
     "data": {
      "text/plain": [
       "['location_type',\n",
       " 'cellphone_access',\n",
       " 'gender_of_respondent',\n",
       " 'marital_status',\n",
       " 'education_level',\n",
       " 'job_type']"
      ]
     },
<<<<<<< HEAD
     "execution_count": 12,
=======
     "execution_count": 8,
>>>>>>> 0d0c885b2f88f61799e66ab47f1771d3e0ca0491
     "metadata": {},
     "output_type": "execute_result"
    }
   ],
   "source": [
    "cat_features = list(X_train.select_dtypes(include=['object']).columns)\n",
    "cat_features"
   ]
  },
  {
   "cell_type": "code",
<<<<<<< HEAD
   "execution_count": 13,
=======
   "execution_count": 9,
>>>>>>> 0d0c885b2f88f61799e66ab47f1771d3e0ca0491
   "id": "e58ef3bd-8bdf-4ea1-998a-eb5fabe2cc96",
   "metadata": {
    "tags": []
   },
   "outputs": [],
   "source": [
    "num_transformer = Pipeline(\n",
    "    steps=[\n",
    "        ('imputer', SimpleImputer(strategy='mean')),\n",
<<<<<<< HEAD
    "        ('scaling', StandardScaler()),\n",
    "        ('poly', PolynomialFeatures(degree=3))\n",
=======
    "        ('scaling', StandardScaler())\n",
>>>>>>> 0d0c885b2f88f61799e66ab47f1771d3e0ca0491
    "    ])\n",
    "cat_transformer = Pipeline(steps=\n",
    "                           [\n",
    "        ('imputer', SimpleImputer(strategy='most_frequent')),\n",
<<<<<<< HEAD
    "    \n",
=======
>>>>>>> 0d0c885b2f88f61799e66ab47f1771d3e0ca0491
    "        ('onehot', OneHotEncoder(drop='first', handle_unknown='ignore'))\n",
    "    ])"
   ]
  },
  {
   "cell_type": "code",
<<<<<<< HEAD
   "execution_count": 14,
=======
   "execution_count": 10,
>>>>>>> 0d0c885b2f88f61799e66ab47f1771d3e0ca0491
   "id": "dc8f42e6-cbcc-4118-ac7b-32933145d504",
   "metadata": {
    "tags": []
   },
   "outputs": [],
   "source": [
    "preprocessor = ColumnTransformer(\n",
    "    transformers=[\n",
    "        ('num_transformer', num_transformer, num_features),\n",
    "        ('cat_transformer', cat_transformer, cat_features)\n",
<<<<<<< HEAD
    "        \n",
    "    ],remainder='passthrough')"
=======
    "    ])"
>>>>>>> 0d0c885b2f88f61799e66ab47f1771d3e0ca0491
   ]
  },
  {
   "cell_type": "code",
<<<<<<< HEAD
   "execution_count": null,
   "id": "30d94122-24e1-408c-92d6-81e3d325a17f",
   "metadata": {},
   "outputs": [],
   "source": [
    "baseline = ImbPipeline(\n",
    "    steps=[\n",
    "        ('preprocessor', preprocessor),\n",
    "        ('Smote', SMOTE(random_state=42)),  # Use SMOTE as a step\n",
=======
   "execution_count": 11,
   "id": "6512562a-0653-4eeb-b48a-dba1165e98ed",
   "metadata": {
    "tags": []
   },
   "outputs": [],
   "source": [
    "baseline = Pipeline(\n",
    "    steps=[\n",
    "        ('preprocessor', preprocessor),\n",
>>>>>>> 0d0c885b2f88f61799e66ab47f1771d3e0ca0491
    "        ('classifier', LogisticRegression(solver='saga', max_iter=10_000))\n",
    "    ])"
   ]
  },
  {
   "cell_type": "code",
<<<<<<< HEAD
   "execution_count": 15,
   "id": "57f74865-c614-4458-82a6-cd291f39cbd0",
   "metadata": {},
   "outputs": [],
   "source": [
    "baseline = Pipeline(\n",
    "    steps=[\n",
    "        ('preprocessor', preprocessor),\n",
    "        ('classifier', LogisticRegression(solver='saga', max_iter=10_000))\n",
    "    ])"
=======
   "execution_count": 12,
   "id": "b9199f49-be9e-43ea-b593-486d656ebaea",
   "metadata": {
    "tags": []
   },
   "outputs": [
    {
     "data": {
      "text/html": [
       "<style>#sk-container-id-1 {color: black;background-color: white;}#sk-container-id-1 pre{padding: 0;}#sk-container-id-1 div.sk-toggleable {background-color: white;}#sk-container-id-1 label.sk-toggleable__label {cursor: pointer;display: block;width: 100%;margin-bottom: 0;padding: 0.3em;box-sizing: border-box;text-align: center;}#sk-container-id-1 label.sk-toggleable__label-arrow:before {content: \"▸\";float: left;margin-right: 0.25em;color: #696969;}#sk-container-id-1 label.sk-toggleable__label-arrow:hover:before {color: black;}#sk-container-id-1 div.sk-estimator:hover label.sk-toggleable__label-arrow:before {color: black;}#sk-container-id-1 div.sk-toggleable__content {max-height: 0;max-width: 0;overflow: hidden;text-align: left;background-color: #f0f8ff;}#sk-container-id-1 div.sk-toggleable__content pre {margin: 0.2em;color: black;border-radius: 0.25em;background-color: #f0f8ff;}#sk-container-id-1 input.sk-toggleable__control:checked~div.sk-toggleable__content {max-height: 200px;max-width: 100%;overflow: auto;}#sk-container-id-1 input.sk-toggleable__control:checked~label.sk-toggleable__label-arrow:before {content: \"▾\";}#sk-container-id-1 div.sk-estimator input.sk-toggleable__control:checked~label.sk-toggleable__label {background-color: #d4ebff;}#sk-container-id-1 div.sk-label input.sk-toggleable__control:checked~label.sk-toggleable__label {background-color: #d4ebff;}#sk-container-id-1 input.sk-hidden--visually {border: 0;clip: rect(1px 1px 1px 1px);clip: rect(1px, 1px, 1px, 1px);height: 1px;margin: -1px;overflow: hidden;padding: 0;position: absolute;width: 1px;}#sk-container-id-1 div.sk-estimator {font-family: monospace;background-color: #f0f8ff;border: 1px dotted black;border-radius: 0.25em;box-sizing: border-box;margin-bottom: 0.5em;}#sk-container-id-1 div.sk-estimator:hover {background-color: #d4ebff;}#sk-container-id-1 div.sk-parallel-item::after {content: \"\";width: 100%;border-bottom: 1px solid gray;flex-grow: 1;}#sk-container-id-1 div.sk-label:hover label.sk-toggleable__label {background-color: #d4ebff;}#sk-container-id-1 div.sk-serial::before {content: \"\";position: absolute;border-left: 1px solid gray;box-sizing: border-box;top: 0;bottom: 0;left: 50%;z-index: 0;}#sk-container-id-1 div.sk-serial {display: flex;flex-direction: column;align-items: center;background-color: white;padding-right: 0.2em;padding-left: 0.2em;position: relative;}#sk-container-id-1 div.sk-item {position: relative;z-index: 1;}#sk-container-id-1 div.sk-parallel {display: flex;align-items: stretch;justify-content: center;background-color: white;position: relative;}#sk-container-id-1 div.sk-item::before, #sk-container-id-1 div.sk-parallel-item::before {content: \"\";position: absolute;border-left: 1px solid gray;box-sizing: border-box;top: 0;bottom: 0;left: 50%;z-index: -1;}#sk-container-id-1 div.sk-parallel-item {display: flex;flex-direction: column;z-index: 1;position: relative;background-color: white;}#sk-container-id-1 div.sk-parallel-item:first-child::after {align-self: flex-end;width: 50%;}#sk-container-id-1 div.sk-parallel-item:last-child::after {align-self: flex-start;width: 50%;}#sk-container-id-1 div.sk-parallel-item:only-child::after {width: 0;}#sk-container-id-1 div.sk-dashed-wrapped {border: 1px dashed gray;margin: 0 0.4em 0.5em 0.4em;box-sizing: border-box;padding-bottom: 0.4em;background-color: white;}#sk-container-id-1 div.sk-label label {font-family: monospace;font-weight: bold;display: inline-block;line-height: 1.2em;}#sk-container-id-1 div.sk-label-container {text-align: center;}#sk-container-id-1 div.sk-container {/* jupyter's `normalize.less` sets `[hidden] { display: none; }` but bootstrap.min.css set `[hidden] { display: none !important; }` so we also need the `!important` here to be able to override the default hidden behavior on the sphinx rendered scikit-learn.org. See: https://github.com/scikit-learn/scikit-learn/issues/21755 */display: inline-block !important;position: relative;}#sk-container-id-1 div.sk-text-repr-fallback {display: none;}</style><div id=\"sk-container-id-1\" class=\"sk-top-container\"><div class=\"sk-text-repr-fallback\"><pre>Pipeline(steps=[(&#x27;preprocessor&#x27;,\n",
       "                 ColumnTransformer(transformers=[(&#x27;num_transformer&#x27;,\n",
       "                                                  Pipeline(steps=[(&#x27;imputer&#x27;,\n",
       "                                                                   SimpleImputer()),\n",
       "                                                                  (&#x27;scaling&#x27;,\n",
       "                                                                   StandardScaler())]),\n",
       "                                                  [&#x27;household_size&#x27;,\n",
       "                                                   &#x27;age_of_respondent&#x27;]),\n",
       "                                                 (&#x27;cat_transformer&#x27;,\n",
       "                                                  Pipeline(steps=[(&#x27;imputer&#x27;,\n",
       "                                                                   SimpleImputer(strategy=&#x27;most_frequent&#x27;)),\n",
       "                                                                  (&#x27;onehot&#x27;,\n",
       "                                                                   OneHotEncoder(drop=&#x27;first&#x27;,\n",
       "                                                                                 handle_unknown=&#x27;ignore&#x27;))]),\n",
       "                                                  [&#x27;location_type&#x27;,\n",
       "                                                   &#x27;cellphone_access&#x27;,\n",
       "                                                   &#x27;gender_of_respondent&#x27;,\n",
       "                                                   &#x27;marital_status&#x27;,\n",
       "                                                   &#x27;education_level&#x27;,\n",
       "                                                   &#x27;job_type&#x27;])])),\n",
       "                (&#x27;classifier&#x27;,\n",
       "                 LogisticRegression(max_iter=10000, solver=&#x27;saga&#x27;))])</pre><b>In a Jupyter environment, please rerun this cell to show the HTML representation or trust the notebook. <br />On GitHub, the HTML representation is unable to render, please try loading this page with nbviewer.org.</b></div><div class=\"sk-container\" hidden><div class=\"sk-item sk-dashed-wrapped\"><div class=\"sk-label-container\"><div class=\"sk-label sk-toggleable\"><input class=\"sk-toggleable__control sk-hidden--visually\" id=\"sk-estimator-id-1\" type=\"checkbox\" ><label for=\"sk-estimator-id-1\" class=\"sk-toggleable__label sk-toggleable__label-arrow\">Pipeline</label><div class=\"sk-toggleable__content\"><pre>Pipeline(steps=[(&#x27;preprocessor&#x27;,\n",
       "                 ColumnTransformer(transformers=[(&#x27;num_transformer&#x27;,\n",
       "                                                  Pipeline(steps=[(&#x27;imputer&#x27;,\n",
       "                                                                   SimpleImputer()),\n",
       "                                                                  (&#x27;scaling&#x27;,\n",
       "                                                                   StandardScaler())]),\n",
       "                                                  [&#x27;household_size&#x27;,\n",
       "                                                   &#x27;age_of_respondent&#x27;]),\n",
       "                                                 (&#x27;cat_transformer&#x27;,\n",
       "                                                  Pipeline(steps=[(&#x27;imputer&#x27;,\n",
       "                                                                   SimpleImputer(strategy=&#x27;most_frequent&#x27;)),\n",
       "                                                                  (&#x27;onehot&#x27;,\n",
       "                                                                   OneHotEncoder(drop=&#x27;first&#x27;,\n",
       "                                                                                 handle_unknown=&#x27;ignore&#x27;))]),\n",
       "                                                  [&#x27;location_type&#x27;,\n",
       "                                                   &#x27;cellphone_access&#x27;,\n",
       "                                                   &#x27;gender_of_respondent&#x27;,\n",
       "                                                   &#x27;marital_status&#x27;,\n",
       "                                                   &#x27;education_level&#x27;,\n",
       "                                                   &#x27;job_type&#x27;])])),\n",
       "                (&#x27;classifier&#x27;,\n",
       "                 LogisticRegression(max_iter=10000, solver=&#x27;saga&#x27;))])</pre></div></div></div><div class=\"sk-serial\"><div class=\"sk-item sk-dashed-wrapped\"><div class=\"sk-label-container\"><div class=\"sk-label sk-toggleable\"><input class=\"sk-toggleable__control sk-hidden--visually\" id=\"sk-estimator-id-2\" type=\"checkbox\" ><label for=\"sk-estimator-id-2\" class=\"sk-toggleable__label sk-toggleable__label-arrow\">preprocessor: ColumnTransformer</label><div class=\"sk-toggleable__content\"><pre>ColumnTransformer(transformers=[(&#x27;num_transformer&#x27;,\n",
       "                                 Pipeline(steps=[(&#x27;imputer&#x27;, SimpleImputer()),\n",
       "                                                 (&#x27;scaling&#x27;,\n",
       "                                                  StandardScaler())]),\n",
       "                                 [&#x27;household_size&#x27;, &#x27;age_of_respondent&#x27;]),\n",
       "                                (&#x27;cat_transformer&#x27;,\n",
       "                                 Pipeline(steps=[(&#x27;imputer&#x27;,\n",
       "                                                  SimpleImputer(strategy=&#x27;most_frequent&#x27;)),\n",
       "                                                 (&#x27;onehot&#x27;,\n",
       "                                                  OneHotEncoder(drop=&#x27;first&#x27;,\n",
       "                                                                handle_unknown=&#x27;ignore&#x27;))]),\n",
       "                                 [&#x27;location_type&#x27;, &#x27;cellphone_access&#x27;,\n",
       "                                  &#x27;gender_of_respondent&#x27;, &#x27;marital_status&#x27;,\n",
       "                                  &#x27;education_level&#x27;, &#x27;job_type&#x27;])])</pre></div></div></div><div class=\"sk-parallel\"><div class=\"sk-parallel-item\"><div class=\"sk-item\"><div class=\"sk-label-container\"><div class=\"sk-label sk-toggleable\"><input class=\"sk-toggleable__control sk-hidden--visually\" id=\"sk-estimator-id-3\" type=\"checkbox\" ><label for=\"sk-estimator-id-3\" class=\"sk-toggleable__label sk-toggleable__label-arrow\">num_transformer</label><div class=\"sk-toggleable__content\"><pre>[&#x27;household_size&#x27;, &#x27;age_of_respondent&#x27;]</pre></div></div></div><div class=\"sk-serial\"><div class=\"sk-item\"><div class=\"sk-serial\"><div class=\"sk-item\"><div class=\"sk-estimator sk-toggleable\"><input class=\"sk-toggleable__control sk-hidden--visually\" id=\"sk-estimator-id-4\" type=\"checkbox\" ><label for=\"sk-estimator-id-4\" class=\"sk-toggleable__label sk-toggleable__label-arrow\">SimpleImputer</label><div class=\"sk-toggleable__content\"><pre>SimpleImputer()</pre></div></div></div><div class=\"sk-item\"><div class=\"sk-estimator sk-toggleable\"><input class=\"sk-toggleable__control sk-hidden--visually\" id=\"sk-estimator-id-5\" type=\"checkbox\" ><label for=\"sk-estimator-id-5\" class=\"sk-toggleable__label sk-toggleable__label-arrow\">StandardScaler</label><div class=\"sk-toggleable__content\"><pre>StandardScaler()</pre></div></div></div></div></div></div></div></div><div class=\"sk-parallel-item\"><div class=\"sk-item\"><div class=\"sk-label-container\"><div class=\"sk-label sk-toggleable\"><input class=\"sk-toggleable__control sk-hidden--visually\" id=\"sk-estimator-id-6\" type=\"checkbox\" ><label for=\"sk-estimator-id-6\" class=\"sk-toggleable__label sk-toggleable__label-arrow\">cat_transformer</label><div class=\"sk-toggleable__content\"><pre>[&#x27;location_type&#x27;, &#x27;cellphone_access&#x27;, &#x27;gender_of_respondent&#x27;, &#x27;marital_status&#x27;, &#x27;education_level&#x27;, &#x27;job_type&#x27;]</pre></div></div></div><div class=\"sk-serial\"><div class=\"sk-item\"><div class=\"sk-serial\"><div class=\"sk-item\"><div class=\"sk-estimator sk-toggleable\"><input class=\"sk-toggleable__control sk-hidden--visually\" id=\"sk-estimator-id-7\" type=\"checkbox\" ><label for=\"sk-estimator-id-7\" class=\"sk-toggleable__label sk-toggleable__label-arrow\">SimpleImputer</label><div class=\"sk-toggleable__content\"><pre>SimpleImputer(strategy=&#x27;most_frequent&#x27;)</pre></div></div></div><div class=\"sk-item\"><div class=\"sk-estimator sk-toggleable\"><input class=\"sk-toggleable__control sk-hidden--visually\" id=\"sk-estimator-id-8\" type=\"checkbox\" ><label for=\"sk-estimator-id-8\" class=\"sk-toggleable__label sk-toggleable__label-arrow\">OneHotEncoder</label><div class=\"sk-toggleable__content\"><pre>OneHotEncoder(drop=&#x27;first&#x27;, handle_unknown=&#x27;ignore&#x27;)</pre></div></div></div></div></div></div></div></div></div></div><div class=\"sk-item\"><div class=\"sk-estimator sk-toggleable\"><input class=\"sk-toggleable__control sk-hidden--visually\" id=\"sk-estimator-id-9\" type=\"checkbox\" ><label for=\"sk-estimator-id-9\" class=\"sk-toggleable__label sk-toggleable__label-arrow\">LogisticRegression</label><div class=\"sk-toggleable__content\"><pre>LogisticRegression(max_iter=10000, solver=&#x27;saga&#x27;)</pre></div></div></div></div></div></div></div>"
      ],
      "text/plain": [
       "Pipeline(steps=[('preprocessor',\n",
       "                 ColumnTransformer(transformers=[('num_transformer',\n",
       "                                                  Pipeline(steps=[('imputer',\n",
       "                                                                   SimpleImputer()),\n",
       "                                                                  ('scaling',\n",
       "                                                                   StandardScaler())]),\n",
       "                                                  ['household_size',\n",
       "                                                   'age_of_respondent']),\n",
       "                                                 ('cat_transformer',\n",
       "                                                  Pipeline(steps=[('imputer',\n",
       "                                                                   SimpleImputer(strategy='most_frequent')),\n",
       "                                                                  ('onehot',\n",
       "                                                                   OneHotEncoder(drop='first',\n",
       "                                                                                 handle_unknown='ignore'))]),\n",
       "                                                  ['location_type',\n",
       "                                                   'cellphone_access',\n",
       "                                                   'gender_of_respondent',\n",
       "                                                   'marital_status',\n",
       "                                                   'education_level',\n",
       "                                                   'job_type'])])),\n",
       "                ('classifier',\n",
       "                 LogisticRegression(max_iter=10000, solver='saga'))])"
      ]
     },
     "execution_count": 12,
     "metadata": {},
     "output_type": "execute_result"
    }
   ],
   "source": [
    "baseline.fit(X_train, y_train)"
   ]
  },
  {
   "cell_type": "code",
   "execution_count": 213,
   "id": "08b2f4be-8f2a-4996-95f2-40a40245e964",
   "metadata": {
    "tags": []
   },
   "outputs": [],
   "source": [
    "baseline_ran = Pipeline(\n",
    "    steps=[\n",
    "        ('preprocessor', preprocessor),\n",
    "        ('classifier', RandomForestClassifier(n_estimators=100, random_state=42, n_jobs = -1, verbose = 1))])"
>>>>>>> 0d0c885b2f88f61799e66ab47f1771d3e0ca0491
   ]
  },
  {
   "cell_type": "code",
<<<<<<< HEAD
   "execution_count": 16,
   "id": "b2f85c56-28a2-4efc-9ac2-37d459e1186d",
   "metadata": {},
   "outputs": [
    {
     "data": {
      "text/html": [
       "<style>#sk-container-id-1 {color: black;background-color: white;}#sk-container-id-1 pre{padding: 0;}#sk-container-id-1 div.sk-toggleable {background-color: white;}#sk-container-id-1 label.sk-toggleable__label {cursor: pointer;display: block;width: 100%;margin-bottom: 0;padding: 0.3em;box-sizing: border-box;text-align: center;}#sk-container-id-1 label.sk-toggleable__label-arrow:before {content: \"▸\";float: left;margin-right: 0.25em;color: #696969;}#sk-container-id-1 label.sk-toggleable__label-arrow:hover:before {color: black;}#sk-container-id-1 div.sk-estimator:hover label.sk-toggleable__label-arrow:before {color: black;}#sk-container-id-1 div.sk-toggleable__content {max-height: 0;max-width: 0;overflow: hidden;text-align: left;background-color: #f0f8ff;}#sk-container-id-1 div.sk-toggleable__content pre {margin: 0.2em;color: black;border-radius: 0.25em;background-color: #f0f8ff;}#sk-container-id-1 input.sk-toggleable__control:checked~div.sk-toggleable__content {max-height: 200px;max-width: 100%;overflow: auto;}#sk-container-id-1 input.sk-toggleable__control:checked~label.sk-toggleable__label-arrow:before {content: \"▾\";}#sk-container-id-1 div.sk-estimator input.sk-toggleable__control:checked~label.sk-toggleable__label {background-color: #d4ebff;}#sk-container-id-1 div.sk-label input.sk-toggleable__control:checked~label.sk-toggleable__label {background-color: #d4ebff;}#sk-container-id-1 input.sk-hidden--visually {border: 0;clip: rect(1px 1px 1px 1px);clip: rect(1px, 1px, 1px, 1px);height: 1px;margin: -1px;overflow: hidden;padding: 0;position: absolute;width: 1px;}#sk-container-id-1 div.sk-estimator {font-family: monospace;background-color: #f0f8ff;border: 1px dotted black;border-radius: 0.25em;box-sizing: border-box;margin-bottom: 0.5em;}#sk-container-id-1 div.sk-estimator:hover {background-color: #d4ebff;}#sk-container-id-1 div.sk-parallel-item::after {content: \"\";width: 100%;border-bottom: 1px solid gray;flex-grow: 1;}#sk-container-id-1 div.sk-label:hover label.sk-toggleable__label {background-color: #d4ebff;}#sk-container-id-1 div.sk-serial::before {content: \"\";position: absolute;border-left: 1px solid gray;box-sizing: border-box;top: 0;bottom: 0;left: 50%;z-index: 0;}#sk-container-id-1 div.sk-serial {display: flex;flex-direction: column;align-items: center;background-color: white;padding-right: 0.2em;padding-left: 0.2em;position: relative;}#sk-container-id-1 div.sk-item {position: relative;z-index: 1;}#sk-container-id-1 div.sk-parallel {display: flex;align-items: stretch;justify-content: center;background-color: white;position: relative;}#sk-container-id-1 div.sk-item::before, #sk-container-id-1 div.sk-parallel-item::before {content: \"\";position: absolute;border-left: 1px solid gray;box-sizing: border-box;top: 0;bottom: 0;left: 50%;z-index: -1;}#sk-container-id-1 div.sk-parallel-item {display: flex;flex-direction: column;z-index: 1;position: relative;background-color: white;}#sk-container-id-1 div.sk-parallel-item:first-child::after {align-self: flex-end;width: 50%;}#sk-container-id-1 div.sk-parallel-item:last-child::after {align-self: flex-start;width: 50%;}#sk-container-id-1 div.sk-parallel-item:only-child::after {width: 0;}#sk-container-id-1 div.sk-dashed-wrapped {border: 1px dashed gray;margin: 0 0.4em 0.5em 0.4em;box-sizing: border-box;padding-bottom: 0.4em;background-color: white;}#sk-container-id-1 div.sk-label label {font-family: monospace;font-weight: bold;display: inline-block;line-height: 1.2em;}#sk-container-id-1 div.sk-label-container {text-align: center;}#sk-container-id-1 div.sk-container {/* jupyter's `normalize.less` sets `[hidden] { display: none; }` but bootstrap.min.css set `[hidden] { display: none !important; }` so we also need the `!important` here to be able to override the default hidden behavior on the sphinx rendered scikit-learn.org. See: https://github.com/scikit-learn/scikit-learn/issues/21755 */display: inline-block !important;position: relative;}#sk-container-id-1 div.sk-text-repr-fallback {display: none;}</style><div id=\"sk-container-id-1\" class=\"sk-top-container\"><div class=\"sk-text-repr-fallback\"><pre>Pipeline(steps=[(&#x27;preprocessor&#x27;,\n",
       "                 ColumnTransformer(remainder=&#x27;passthrough&#x27;,\n",
       "                                   transformers=[(&#x27;num_transformer&#x27;,\n",
       "                                                  Pipeline(steps=[(&#x27;imputer&#x27;,\n",
       "                                                                   SimpleImputer()),\n",
       "                                                                  (&#x27;scaling&#x27;,\n",
       "                                                                   StandardScaler()),\n",
       "                                                                  (&#x27;poly&#x27;,\n",
       "                                                                   PolynomialFeatures(degree=3))]),\n",
=======
   "execution_count": 174,
   "id": "056a2fd5-5b63-44af-a002-bb3013e256e0",
   "metadata": {
    "tags": []
   },
   "outputs": [
    {
     "name": "stderr",
     "output_type": "stream",
     "text": [
      "[Parallel(n_jobs=-1)]: Using backend ThreadingBackend with 4 concurrent workers.\n",
      "[Parallel(n_jobs=-1)]: Done  42 tasks      | elapsed:    1.2s\n",
      "[Parallel(n_jobs=-1)]: Done 100 out of 100 | elapsed:    2.7s finished\n"
     ]
    },
    {
     "data": {
      "text/html": [
       "<style>#sk-container-id-26 {color: black;background-color: white;}#sk-container-id-26 pre{padding: 0;}#sk-container-id-26 div.sk-toggleable {background-color: white;}#sk-container-id-26 label.sk-toggleable__label {cursor: pointer;display: block;width: 100%;margin-bottom: 0;padding: 0.3em;box-sizing: border-box;text-align: center;}#sk-container-id-26 label.sk-toggleable__label-arrow:before {content: \"▸\";float: left;margin-right: 0.25em;color: #696969;}#sk-container-id-26 label.sk-toggleable__label-arrow:hover:before {color: black;}#sk-container-id-26 div.sk-estimator:hover label.sk-toggleable__label-arrow:before {color: black;}#sk-container-id-26 div.sk-toggleable__content {max-height: 0;max-width: 0;overflow: hidden;text-align: left;background-color: #f0f8ff;}#sk-container-id-26 div.sk-toggleable__content pre {margin: 0.2em;color: black;border-radius: 0.25em;background-color: #f0f8ff;}#sk-container-id-26 input.sk-toggleable__control:checked~div.sk-toggleable__content {max-height: 200px;max-width: 100%;overflow: auto;}#sk-container-id-26 input.sk-toggleable__control:checked~label.sk-toggleable__label-arrow:before {content: \"▾\";}#sk-container-id-26 div.sk-estimator input.sk-toggleable__control:checked~label.sk-toggleable__label {background-color: #d4ebff;}#sk-container-id-26 div.sk-label input.sk-toggleable__control:checked~label.sk-toggleable__label {background-color: #d4ebff;}#sk-container-id-26 input.sk-hidden--visually {border: 0;clip: rect(1px 1px 1px 1px);clip: rect(1px, 1px, 1px, 1px);height: 1px;margin: -1px;overflow: hidden;padding: 0;position: absolute;width: 1px;}#sk-container-id-26 div.sk-estimator {font-family: monospace;background-color: #f0f8ff;border: 1px dotted black;border-radius: 0.25em;box-sizing: border-box;margin-bottom: 0.5em;}#sk-container-id-26 div.sk-estimator:hover {background-color: #d4ebff;}#sk-container-id-26 div.sk-parallel-item::after {content: \"\";width: 100%;border-bottom: 1px solid gray;flex-grow: 1;}#sk-container-id-26 div.sk-label:hover label.sk-toggleable__label {background-color: #d4ebff;}#sk-container-id-26 div.sk-serial::before {content: \"\";position: absolute;border-left: 1px solid gray;box-sizing: border-box;top: 0;bottom: 0;left: 50%;z-index: 0;}#sk-container-id-26 div.sk-serial {display: flex;flex-direction: column;align-items: center;background-color: white;padding-right: 0.2em;padding-left: 0.2em;position: relative;}#sk-container-id-26 div.sk-item {position: relative;z-index: 1;}#sk-container-id-26 div.sk-parallel {display: flex;align-items: stretch;justify-content: center;background-color: white;position: relative;}#sk-container-id-26 div.sk-item::before, #sk-container-id-26 div.sk-parallel-item::before {content: \"\";position: absolute;border-left: 1px solid gray;box-sizing: border-box;top: 0;bottom: 0;left: 50%;z-index: -1;}#sk-container-id-26 div.sk-parallel-item {display: flex;flex-direction: column;z-index: 1;position: relative;background-color: white;}#sk-container-id-26 div.sk-parallel-item:first-child::after {align-self: flex-end;width: 50%;}#sk-container-id-26 div.sk-parallel-item:last-child::after {align-self: flex-start;width: 50%;}#sk-container-id-26 div.sk-parallel-item:only-child::after {width: 0;}#sk-container-id-26 div.sk-dashed-wrapped {border: 1px dashed gray;margin: 0 0.4em 0.5em 0.4em;box-sizing: border-box;padding-bottom: 0.4em;background-color: white;}#sk-container-id-26 div.sk-label label {font-family: monospace;font-weight: bold;display: inline-block;line-height: 1.2em;}#sk-container-id-26 div.sk-label-container {text-align: center;}#sk-container-id-26 div.sk-container {/* jupyter's `normalize.less` sets `[hidden] { display: none; }` but bootstrap.min.css set `[hidden] { display: none !important; }` so we also need the `!important` here to be able to override the default hidden behavior on the sphinx rendered scikit-learn.org. See: https://github.com/scikit-learn/scikit-learn/issues/21755 */display: inline-block !important;position: relative;}#sk-container-id-26 div.sk-text-repr-fallback {display: none;}</style><div id=\"sk-container-id-26\" class=\"sk-top-container\"><div class=\"sk-text-repr-fallback\"><pre>Pipeline(steps=[(&#x27;preprocessor&#x27;,\n",
       "                 ColumnTransformer(transformers=[(&#x27;num_transformer&#x27;,\n",
       "                                                  Pipeline(steps=[(&#x27;imputer&#x27;,\n",
       "                                                                   SimpleImputer()),\n",
       "                                                                  (&#x27;scaling&#x27;,\n",
       "                                                                   StandardScaler())]),\n",
>>>>>>> 0d0c885b2f88f61799e66ab47f1771d3e0ca0491
       "                                                  [&#x27;household_size&#x27;,\n",
       "                                                   &#x27;age_of_respondent&#x27;]),\n",
       "                                                 (&#x27;cat_transformer&#x27;,\n",
       "                                                  Pipeline(steps=[(&#x27;imputer&#x27;,\n",
       "                                                                   SimpleImputer(strategy=&#x27;most_frequent&#x27;)),\n",
       "                                                                  (&#x27;onehot&#x27;,\n",
       "                                                                   OneHotEncoder(drop=&#x27;first&#x27;,\n",
       "                                                                                 handle_unknown=&#x27;ignore&#x27;))]),\n",
       "                                                  [&#x27;location_type&#x27;,\n",
       "                                                   &#x27;cellphone_access&#x27;,\n",
       "                                                   &#x27;gender_of_respondent&#x27;,\n",
       "                                                   &#x27;marital_status&#x27;,\n",
       "                                                   &#x27;education_level&#x27;,\n",
       "                                                   &#x27;job_type&#x27;])])),\n",
       "                (&#x27;classifier&#x27;,\n",
<<<<<<< HEAD
       "                 LogisticRegression(max_iter=10000, solver=&#x27;saga&#x27;))])</pre><b>In a Jupyter environment, please rerun this cell to show the HTML representation or trust the notebook. <br />On GitHub, the HTML representation is unable to render, please try loading this page with nbviewer.org.</b></div><div class=\"sk-container\" hidden><div class=\"sk-item sk-dashed-wrapped\"><div class=\"sk-label-container\"><div class=\"sk-label sk-toggleable\"><input class=\"sk-toggleable__control sk-hidden--visually\" id=\"sk-estimator-id-1\" type=\"checkbox\" ><label for=\"sk-estimator-id-1\" class=\"sk-toggleable__label sk-toggleable__label-arrow\">Pipeline</label><div class=\"sk-toggleable__content\"><pre>Pipeline(steps=[(&#x27;preprocessor&#x27;,\n",
       "                 ColumnTransformer(remainder=&#x27;passthrough&#x27;,\n",
       "                                   transformers=[(&#x27;num_transformer&#x27;,\n",
       "                                                  Pipeline(steps=[(&#x27;imputer&#x27;,\n",
       "                                                                   SimpleImputer()),\n",
       "                                                                  (&#x27;scaling&#x27;,\n",
       "                                                                   StandardScaler()),\n",
       "                                                                  (&#x27;poly&#x27;,\n",
       "                                                                   PolynomialFeatures(degree=3))]),\n",
=======
       "                 RandomForestClassifier(n_jobs=-1, random_state=42,\n",
       "                                        verbose=1))])</pre><b>In a Jupyter environment, please rerun this cell to show the HTML representation or trust the notebook. <br />On GitHub, the HTML representation is unable to render, please try loading this page with nbviewer.org.</b></div><div class=\"sk-container\" hidden><div class=\"sk-item sk-dashed-wrapped\"><div class=\"sk-label-container\"><div class=\"sk-label sk-toggleable\"><input class=\"sk-toggleable__control sk-hidden--visually\" id=\"sk-estimator-id-194\" type=\"checkbox\" ><label for=\"sk-estimator-id-194\" class=\"sk-toggleable__label sk-toggleable__label-arrow\">Pipeline</label><div class=\"sk-toggleable__content\"><pre>Pipeline(steps=[(&#x27;preprocessor&#x27;,\n",
       "                 ColumnTransformer(transformers=[(&#x27;num_transformer&#x27;,\n",
       "                                                  Pipeline(steps=[(&#x27;imputer&#x27;,\n",
       "                                                                   SimpleImputer()),\n",
       "                                                                  (&#x27;scaling&#x27;,\n",
       "                                                                   StandardScaler())]),\n",
>>>>>>> 0d0c885b2f88f61799e66ab47f1771d3e0ca0491
       "                                                  [&#x27;household_size&#x27;,\n",
       "                                                   &#x27;age_of_respondent&#x27;]),\n",
       "                                                 (&#x27;cat_transformer&#x27;,\n",
       "                                                  Pipeline(steps=[(&#x27;imputer&#x27;,\n",
       "                                                                   SimpleImputer(strategy=&#x27;most_frequent&#x27;)),\n",
       "                                                                  (&#x27;onehot&#x27;,\n",
       "                                                                   OneHotEncoder(drop=&#x27;first&#x27;,\n",
       "                                                                                 handle_unknown=&#x27;ignore&#x27;))]),\n",
       "                                                  [&#x27;location_type&#x27;,\n",
       "                                                   &#x27;cellphone_access&#x27;,\n",
       "                                                   &#x27;gender_of_respondent&#x27;,\n",
       "                                                   &#x27;marital_status&#x27;,\n",
       "                                                   &#x27;education_level&#x27;,\n",
       "                                                   &#x27;job_type&#x27;])])),\n",
       "                (&#x27;classifier&#x27;,\n",
<<<<<<< HEAD
       "                 LogisticRegression(max_iter=10000, solver=&#x27;saga&#x27;))])</pre></div></div></div><div class=\"sk-serial\"><div class=\"sk-item sk-dashed-wrapped\"><div class=\"sk-label-container\"><div class=\"sk-label sk-toggleable\"><input class=\"sk-toggleable__control sk-hidden--visually\" id=\"sk-estimator-id-2\" type=\"checkbox\" ><label for=\"sk-estimator-id-2\" class=\"sk-toggleable__label sk-toggleable__label-arrow\">preprocessor: ColumnTransformer</label><div class=\"sk-toggleable__content\"><pre>ColumnTransformer(remainder=&#x27;passthrough&#x27;,\n",
       "                  transformers=[(&#x27;num_transformer&#x27;,\n",
       "                                 Pipeline(steps=[(&#x27;imputer&#x27;, SimpleImputer()),\n",
       "                                                 (&#x27;scaling&#x27;, StandardScaler()),\n",
       "                                                 (&#x27;poly&#x27;,\n",
       "                                                  PolynomialFeatures(degree=3))]),\n",
=======
       "                 RandomForestClassifier(n_jobs=-1, random_state=42,\n",
       "                                        verbose=1))])</pre></div></div></div><div class=\"sk-serial\"><div class=\"sk-item sk-dashed-wrapped\"><div class=\"sk-label-container\"><div class=\"sk-label sk-toggleable\"><input class=\"sk-toggleable__control sk-hidden--visually\" id=\"sk-estimator-id-195\" type=\"checkbox\" ><label for=\"sk-estimator-id-195\" class=\"sk-toggleable__label sk-toggleable__label-arrow\">preprocessor: ColumnTransformer</label><div class=\"sk-toggleable__content\"><pre>ColumnTransformer(transformers=[(&#x27;num_transformer&#x27;,\n",
       "                                 Pipeline(steps=[(&#x27;imputer&#x27;, SimpleImputer()),\n",
       "                                                 (&#x27;scaling&#x27;,\n",
       "                                                  StandardScaler())]),\n",
>>>>>>> 0d0c885b2f88f61799e66ab47f1771d3e0ca0491
       "                                 [&#x27;household_size&#x27;, &#x27;age_of_respondent&#x27;]),\n",
       "                                (&#x27;cat_transformer&#x27;,\n",
       "                                 Pipeline(steps=[(&#x27;imputer&#x27;,\n",
       "                                                  SimpleImputer(strategy=&#x27;most_frequent&#x27;)),\n",
       "                                                 (&#x27;onehot&#x27;,\n",
       "                                                  OneHotEncoder(drop=&#x27;first&#x27;,\n",
       "                                                                handle_unknown=&#x27;ignore&#x27;))]),\n",
       "                                 [&#x27;location_type&#x27;, &#x27;cellphone_access&#x27;,\n",
       "                                  &#x27;gender_of_respondent&#x27;, &#x27;marital_status&#x27;,\n",
<<<<<<< HEAD
       "                                  &#x27;education_level&#x27;, &#x27;job_type&#x27;])])</pre></div></div></div><div class=\"sk-parallel\"><div class=\"sk-parallel-item\"><div class=\"sk-item\"><div class=\"sk-label-container\"><div class=\"sk-label sk-toggleable\"><input class=\"sk-toggleable__control sk-hidden--visually\" id=\"sk-estimator-id-3\" type=\"checkbox\" ><label for=\"sk-estimator-id-3\" class=\"sk-toggleable__label sk-toggleable__label-arrow\">num_transformer</label><div class=\"sk-toggleable__content\"><pre>[&#x27;household_size&#x27;, &#x27;age_of_respondent&#x27;]</pre></div></div></div><div class=\"sk-serial\"><div class=\"sk-item\"><div class=\"sk-serial\"><div class=\"sk-item\"><div class=\"sk-estimator sk-toggleable\"><input class=\"sk-toggleable__control sk-hidden--visually\" id=\"sk-estimator-id-4\" type=\"checkbox\" ><label for=\"sk-estimator-id-4\" class=\"sk-toggleable__label sk-toggleable__label-arrow\">SimpleImputer</label><div class=\"sk-toggleable__content\"><pre>SimpleImputer()</pre></div></div></div><div class=\"sk-item\"><div class=\"sk-estimator sk-toggleable\"><input class=\"sk-toggleable__control sk-hidden--visually\" id=\"sk-estimator-id-5\" type=\"checkbox\" ><label for=\"sk-estimator-id-5\" class=\"sk-toggleable__label sk-toggleable__label-arrow\">StandardScaler</label><div class=\"sk-toggleable__content\"><pre>StandardScaler()</pre></div></div></div><div class=\"sk-item\"><div class=\"sk-estimator sk-toggleable\"><input class=\"sk-toggleable__control sk-hidden--visually\" id=\"sk-estimator-id-6\" type=\"checkbox\" ><label for=\"sk-estimator-id-6\" class=\"sk-toggleable__label sk-toggleable__label-arrow\">PolynomialFeatures</label><div class=\"sk-toggleable__content\"><pre>PolynomialFeatures(degree=3)</pre></div></div></div></div></div></div></div></div><div class=\"sk-parallel-item\"><div class=\"sk-item\"><div class=\"sk-label-container\"><div class=\"sk-label sk-toggleable\"><input class=\"sk-toggleable__control sk-hidden--visually\" id=\"sk-estimator-id-7\" type=\"checkbox\" ><label for=\"sk-estimator-id-7\" class=\"sk-toggleable__label sk-toggleable__label-arrow\">cat_transformer</label><div class=\"sk-toggleable__content\"><pre>[&#x27;location_type&#x27;, &#x27;cellphone_access&#x27;, &#x27;gender_of_respondent&#x27;, &#x27;marital_status&#x27;, &#x27;education_level&#x27;, &#x27;job_type&#x27;]</pre></div></div></div><div class=\"sk-serial\"><div class=\"sk-item\"><div class=\"sk-serial\"><div class=\"sk-item\"><div class=\"sk-estimator sk-toggleable\"><input class=\"sk-toggleable__control sk-hidden--visually\" id=\"sk-estimator-id-8\" type=\"checkbox\" ><label for=\"sk-estimator-id-8\" class=\"sk-toggleable__label sk-toggleable__label-arrow\">SimpleImputer</label><div class=\"sk-toggleable__content\"><pre>SimpleImputer(strategy=&#x27;most_frequent&#x27;)</pre></div></div></div><div class=\"sk-item\"><div class=\"sk-estimator sk-toggleable\"><input class=\"sk-toggleable__control sk-hidden--visually\" id=\"sk-estimator-id-9\" type=\"checkbox\" ><label for=\"sk-estimator-id-9\" class=\"sk-toggleable__label sk-toggleable__label-arrow\">OneHotEncoder</label><div class=\"sk-toggleable__content\"><pre>OneHotEncoder(drop=&#x27;first&#x27;, handle_unknown=&#x27;ignore&#x27;)</pre></div></div></div></div></div></div></div></div><div class=\"sk-parallel-item\"><div class=\"sk-item\"><div class=\"sk-label-container\"><div class=\"sk-label sk-toggleable\"><input class=\"sk-toggleable__control sk-hidden--visually\" id=\"sk-estimator-id-10\" type=\"checkbox\" ><label for=\"sk-estimator-id-10\" class=\"sk-toggleable__label sk-toggleable__label-arrow\">remainder</label><div class=\"sk-toggleable__content\"><pre>[]</pre></div></div></div><div class=\"sk-serial\"><div class=\"sk-item\"><div class=\"sk-estimator sk-toggleable\"><input class=\"sk-toggleable__control sk-hidden--visually\" id=\"sk-estimator-id-11\" type=\"checkbox\" ><label for=\"sk-estimator-id-11\" class=\"sk-toggleable__label sk-toggleable__label-arrow\">passthrough</label><div class=\"sk-toggleable__content\"><pre>passthrough</pre></div></div></div></div></div></div></div></div><div class=\"sk-item\"><div class=\"sk-estimator sk-toggleable\"><input class=\"sk-toggleable__control sk-hidden--visually\" id=\"sk-estimator-id-12\" type=\"checkbox\" ><label for=\"sk-estimator-id-12\" class=\"sk-toggleable__label sk-toggleable__label-arrow\">LogisticRegression</label><div class=\"sk-toggleable__content\"><pre>LogisticRegression(max_iter=10000, solver=&#x27;saga&#x27;)</pre></div></div></div></div></div></div></div>"
      ],
      "text/plain": [
       "Pipeline(steps=[('preprocessor',\n",
       "                 ColumnTransformer(remainder='passthrough',\n",
       "                                   transformers=[('num_transformer',\n",
       "                                                  Pipeline(steps=[('imputer',\n",
       "                                                                   SimpleImputer()),\n",
       "                                                                  ('scaling',\n",
       "                                                                   StandardScaler()),\n",
       "                                                                  ('poly',\n",
       "                                                                   PolynomialFeatures(degree=3))]),\n",
=======
       "                                  &#x27;education_level&#x27;, &#x27;job_type&#x27;])])</pre></div></div></div><div class=\"sk-parallel\"><div class=\"sk-parallel-item\"><div class=\"sk-item\"><div class=\"sk-label-container\"><div class=\"sk-label sk-toggleable\"><input class=\"sk-toggleable__control sk-hidden--visually\" id=\"sk-estimator-id-196\" type=\"checkbox\" ><label for=\"sk-estimator-id-196\" class=\"sk-toggleable__label sk-toggleable__label-arrow\">num_transformer</label><div class=\"sk-toggleable__content\"><pre>[&#x27;household_size&#x27;, &#x27;age_of_respondent&#x27;]</pre></div></div></div><div class=\"sk-serial\"><div class=\"sk-item\"><div class=\"sk-serial\"><div class=\"sk-item\"><div class=\"sk-estimator sk-toggleable\"><input class=\"sk-toggleable__control sk-hidden--visually\" id=\"sk-estimator-id-197\" type=\"checkbox\" ><label for=\"sk-estimator-id-197\" class=\"sk-toggleable__label sk-toggleable__label-arrow\">SimpleImputer</label><div class=\"sk-toggleable__content\"><pre>SimpleImputer()</pre></div></div></div><div class=\"sk-item\"><div class=\"sk-estimator sk-toggleable\"><input class=\"sk-toggleable__control sk-hidden--visually\" id=\"sk-estimator-id-198\" type=\"checkbox\" ><label for=\"sk-estimator-id-198\" class=\"sk-toggleable__label sk-toggleable__label-arrow\">StandardScaler</label><div class=\"sk-toggleable__content\"><pre>StandardScaler()</pre></div></div></div></div></div></div></div></div><div class=\"sk-parallel-item\"><div class=\"sk-item\"><div class=\"sk-label-container\"><div class=\"sk-label sk-toggleable\"><input class=\"sk-toggleable__control sk-hidden--visually\" id=\"sk-estimator-id-199\" type=\"checkbox\" ><label for=\"sk-estimator-id-199\" class=\"sk-toggleable__label sk-toggleable__label-arrow\">cat_transformer</label><div class=\"sk-toggleable__content\"><pre>[&#x27;location_type&#x27;, &#x27;cellphone_access&#x27;, &#x27;gender_of_respondent&#x27;, &#x27;marital_status&#x27;, &#x27;education_level&#x27;, &#x27;job_type&#x27;]</pre></div></div></div><div class=\"sk-serial\"><div class=\"sk-item\"><div class=\"sk-serial\"><div class=\"sk-item\"><div class=\"sk-estimator sk-toggleable\"><input class=\"sk-toggleable__control sk-hidden--visually\" id=\"sk-estimator-id-200\" type=\"checkbox\" ><label for=\"sk-estimator-id-200\" class=\"sk-toggleable__label sk-toggleable__label-arrow\">SimpleImputer</label><div class=\"sk-toggleable__content\"><pre>SimpleImputer(strategy=&#x27;most_frequent&#x27;)</pre></div></div></div><div class=\"sk-item\"><div class=\"sk-estimator sk-toggleable\"><input class=\"sk-toggleable__control sk-hidden--visually\" id=\"sk-estimator-id-201\" type=\"checkbox\" ><label for=\"sk-estimator-id-201\" class=\"sk-toggleable__label sk-toggleable__label-arrow\">OneHotEncoder</label><div class=\"sk-toggleable__content\"><pre>OneHotEncoder(drop=&#x27;first&#x27;, handle_unknown=&#x27;ignore&#x27;)</pre></div></div></div></div></div></div></div></div></div></div><div class=\"sk-item\"><div class=\"sk-estimator sk-toggleable\"><input class=\"sk-toggleable__control sk-hidden--visually\" id=\"sk-estimator-id-202\" type=\"checkbox\" ><label for=\"sk-estimator-id-202\" class=\"sk-toggleable__label sk-toggleable__label-arrow\">RandomForestClassifier</label><div class=\"sk-toggleable__content\"><pre>RandomForestClassifier(n_jobs=-1, random_state=42, verbose=1)</pre></div></div></div></div></div></div></div>"
      ],
      "text/plain": [
       "Pipeline(steps=[('preprocessor',\n",
       "                 ColumnTransformer(transformers=[('num_transformer',\n",
       "                                                  Pipeline(steps=[('imputer',\n",
       "                                                                   SimpleImputer()),\n",
       "                                                                  ('scaling',\n",
       "                                                                   StandardScaler())]),\n",
>>>>>>> 0d0c885b2f88f61799e66ab47f1771d3e0ca0491
       "                                                  ['household_size',\n",
       "                                                   'age_of_respondent']),\n",
       "                                                 ('cat_transformer',\n",
       "                                                  Pipeline(steps=[('imputer',\n",
       "                                                                   SimpleImputer(strategy='most_frequent')),\n",
       "                                                                  ('onehot',\n",
       "                                                                   OneHotEncoder(drop='first',\n",
       "                                                                                 handle_unknown='ignore'))]),\n",
       "                                                  ['location_type',\n",
       "                                                   'cellphone_access',\n",
       "                                                   'gender_of_respondent',\n",
       "                                                   'marital_status',\n",
       "                                                   'education_level',\n",
       "                                                   'job_type'])])),\n",
       "                ('classifier',\n",
<<<<<<< HEAD
       "                 LogisticRegression(max_iter=10000, solver='saga'))])"
      ]
     },
     "execution_count": 16,
=======
       "                 RandomForestClassifier(n_jobs=-1, random_state=42,\n",
       "                                        verbose=1))])"
      ]
     },
     "execution_count": 174,
>>>>>>> 0d0c885b2f88f61799e66ab47f1771d3e0ca0491
     "metadata": {},
     "output_type": "execute_result"
    }
   ],
   "source": [
<<<<<<< HEAD
    "baseline.fit(X_train, y_train)"
=======
    "baseline_ran.fit(X_train, y_train)"
>>>>>>> 0d0c885b2f88f61799e66ab47f1771d3e0ca0491
   ]
  },
  {
   "cell_type": "code",
<<<<<<< HEAD
   "execution_count": 17,
   "id": "3a3045e8-095d-4a0a-9054-6937344e487c",
   "metadata": {},
   "outputs": [
    {
     "name": "stdout",
     "output_type": "stream",
     "text": [
      "Test-------------------\n",
      "              precision    recall  f1-score   support\n",
      "\n",
      "           0       0.89      0.98      0.94      4043\n",
      "           1       0.70      0.29      0.42       662\n",
      "\n",
      "    accuracy                           0.88      4705\n",
      "   macro avg       0.80      0.64      0.68      4705\n",
      "weighted avg       0.87      0.88      0.86      4705\n",
      "\n",
      "Accuracy score: 0.8833156216790649\n"
=======
   "execution_count": 175,
   "id": "d1ef6e22-739d-4576-8904-3a971bec1824",
   "metadata": {
    "tags": []
   },
   "outputs": [
    {
     "name": "stderr",
     "output_type": "stream",
     "text": [
      "[Parallel(n_jobs=4)]: Using backend ThreadingBackend with 4 concurrent workers.\n",
      "[Parallel(n_jobs=4)]: Done  42 tasks      | elapsed:    0.0s\n",
      "[Parallel(n_jobs=4)]: Done 100 out of 100 | elapsed:    0.1s finished\n",
      "[Parallel(n_jobs=4)]: Using backend ThreadingBackend with 4 concurrent workers.\n",
      "[Parallel(n_jobs=4)]: Done  42 tasks      | elapsed:    0.0s\n",
      "[Parallel(n_jobs=4)]: Done 100 out of 100 | elapsed:    0.1s finished\n"
     ]
    }
   ],
   "source": [
    "y_ran= baseline_ran.predict(X_train)\n",
    "y_ra = baseline_ran.predict(X_test)"
   ]
  },
  {
   "cell_type": "code",
   "execution_count": 176,
   "id": "0d914d73-d257-4aa7-a5d3-b3a80228e317",
   "metadata": {
    "tags": []
   },
   "outputs": [
    {
     "name": "stderr",
     "output_type": "stream",
     "text": [
      "[Parallel(n_jobs=4)]: Using backend ThreadingBackend with 4 concurrent workers.\n",
      "[Parallel(n_jobs=4)]: Done  42 tasks      | elapsed:    0.0s\n",
      "[Parallel(n_jobs=4)]: Done 100 out of 100 | elapsed:    0.1s finished\n"
>>>>>>> 0d0c885b2f88f61799e66ab47f1771d3e0ca0491
     ]
    },
    {
     "data": {
      "text/plain": [
<<<<<<< HEAD
       "Text(0.5, 1.0, 'Confusion Matrix')"
      ]
     },
     "execution_count": 17,
     "metadata": {},
     "output_type": "execute_result"
    },
    {
     "data": {
      "image/png": "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",
      "text/plain": [
       "<Figure size 640x480 with 2 Axes>"
      ]
     },
     "metadata": {},
     "output_type": "display_data"
    }
   ],
   "source": [
    "y_log = baseline.predict(X_test)\n",
    "print('Test-------------------')\n",
    "print(classification_report(y_test, y_log))\n",
    "print('Accuracy score:', accuracy_score(y_test, y_log))\n",
    "\n",
    "cm=confusion_matrix(y_test, y_log)\n",
    "sns.heatmap(cm, annot=True, fmt ='g')\n",
    "\n",
    "plt.xlabel('Predicted Label')\n",
    "plt.ylabel('True Label')\n",
    "plt.title('Confusion Matrix')"
=======
       "0.9710312158386979"
      ]
     },
     "execution_count": 176,
     "metadata": {},
     "output_type": "execute_result"
    }
   ],
   "source": [
    "baseline_ran.score(X_train, y_train)"
   ]
  },
  {
   "cell_type": "code",
   "execution_count": 177,
   "id": "1e9aa51a-143b-41a7-8af9-49d6d2a49e16",
   "metadata": {
    "tags": []
   },
   "outputs": [
    {
     "name": "stderr",
     "output_type": "stream",
     "text": [
      "[Parallel(n_jobs=4)]: Using backend ThreadingBackend with 4 concurrent workers.\n",
      "[Parallel(n_jobs=4)]: Done  42 tasks      | elapsed:    0.0s\n",
      "[Parallel(n_jobs=4)]: Done 100 out of 100 | elapsed:    0.1s finished\n"
     ]
    },
    {
     "data": {
      "text/plain": [
       "0.8635590818928875"
      ]
     },
     "execution_count": 177,
     "metadata": {},
     "output_type": "execute_result"
    }
   ],
   "source": [
    "baseline_ran.score(X_test,y_test)"
>>>>>>> 0d0c885b2f88f61799e66ab47f1771d3e0ca0491
   ]
  },
  {
   "cell_type": "code",
<<<<<<< HEAD
   "execution_count": null,
   "id": "756151d4-af05-4788-9f17-2ba28731d6eb",
   "metadata": {
    "tags": []
   },
   "outputs": [],
   "source": [
    "y_log = baseline.predict(X_test)"
=======
   "execution_count": 184,
   "id": "887e2031-a09b-4284-9a87-e4227b699340",
   "metadata": {
    "tags": []
   },
   "outputs": [
    {
     "name": "stdout",
     "output_type": "stream",
     "text": [
      "              precision    recall  f1-score   support\n",
      "\n",
      "           0       0.97      0.99      0.98     14148\n",
      "           1       0.96      0.83      0.89      2318\n",
      "\n",
      "    accuracy                           0.97     16466\n",
      "   macro avg       0.97      0.91      0.94     16466\n",
      "weighted avg       0.97      0.97      0.97     16466\n",
      "\n"
     ]
    }
   ],
   "source": [
    "print(classification_report(y_train, y_ran))"
>>>>>>> 0d0c885b2f88f61799e66ab47f1771d3e0ca0491
   ]
  },
  {
   "cell_type": "code",
<<<<<<< HEAD
   "execution_count": null,
   "id": "d7eeff40-5220-47a2-b0a9-26abc568237d",
   "metadata": {
    "tags": []
   },
   "outputs": [],
   "source": [
    "print('Test-------------------')\n",
    "print(classification_report(y_test, y_log))\n",
    "print('Accuracy score:', accuracy_score(y_test, y_log))\n",
    "\n",
    "cm=confusion_matrix(y_test, y_log)\n",
    "sns.heatmap(cm, annot=True, fmt ='g')\n",
    "\n",
    "plt.xlabel('Predicted Label')\n",
    "plt.ylabel('True Label')\n",
    "plt.title('Confusion Matrix')"
=======
   "execution_count": 185,
   "id": "04ae84f7-a4ab-4897-8be2-24b0fb3e2a57",
   "metadata": {
    "tags": []
   },
   "outputs": [
    {
     "name": "stdout",
     "output_type": "stream",
     "text": [
      "              precision    recall  f1-score   support\n",
      "\n",
      "           0       0.90      0.94      0.92      6064\n",
      "           1       0.52      0.40      0.45       994\n",
      "\n",
      "    accuracy                           0.86      7058\n",
      "   macro avg       0.71      0.67      0.69      7058\n",
      "weighted avg       0.85      0.86      0.86      7058\n",
      "\n"
     ]
    }
   ],
   "source": [
    "print(classification_report(y_test, y_ra))"
>>>>>>> 0d0c885b2f88f61799e66ab47f1771d3e0ca0491
   ]
  },
  {
   "cell_type": "code",
<<<<<<< HEAD
   "execution_count": 18,
=======
   "execution_count": 13,
>>>>>>> 0d0c885b2f88f61799e66ab47f1771d3e0ca0491
   "id": "bb33fa8f-14ba-4cb0-bc11-cc84568aa7b7",
   "metadata": {
    "tags": []
   },
   "outputs": [],
   "source": [
    "param_grid = {\n",
<<<<<<< HEAD
    "    \n",
=======
>>>>>>> 0d0c885b2f88f61799e66ab47f1771d3e0ca0491
    "    'preprocessor__num_transformer__imputer__strategy': ['mean','median'],\n",
    "    'preprocessor__num_transformer__scaling': [StandardScaler(),MinMaxScaler(), None],\n",
    "    'classifier__penalty': ['l1', 'l2'],\n",
    "    'classifier__C': [0.1, 1.0,10.]\n",
    "}"
   ]
  },
  {
   "cell_type": "code",
<<<<<<< HEAD
   "execution_count": 19,
=======
   "execution_count": 14,
>>>>>>> 0d0c885b2f88f61799e66ab47f1771d3e0ca0491
   "id": "3396fbd4-f49a-4b20-95a5-7d7c7261abcf",
   "metadata": {
    "tags": []
   },
   "outputs": [],
   "source": [
    "from sklearn.model_selection import GridSearchCV"
   ]
  },
  {
   "cell_type": "code",
<<<<<<< HEAD
   "execution_count": 20,
=======
   "execution_count": 15,
>>>>>>> 0d0c885b2f88f61799e66ab47f1771d3e0ca0491
   "id": "feeb3523-45c2-414b-8743-785ab6f62742",
   "metadata": {
    "tags": []
   },
   "outputs": [],
   "source": [
    "gscv = GridSearchCV(\n",
    "    estimator=baseline,\n",
    "    param_grid=param_grid,\n",
    "    scoring='accuracy',\n",
    "    cv=5, \n",
    "    n_jobs=-1,\n",
    "    verbose=1\n",
    ")"
   ]
  },
  {
   "cell_type": "code",
<<<<<<< HEAD
   "execution_count": 21,
=======
   "execution_count": 16,
>>>>>>> 0d0c885b2f88f61799e66ab47f1771d3e0ca0491
   "id": "c114ccc9-afdf-4856-a3f0-7a4cbc08067c",
   "metadata": {
    "tags": []
   },
   "outputs": [
    {
     "name": "stdout",
     "output_type": "stream",
     "text": [
<<<<<<< HEAD
      "Fitting 5 folds for each of 36 candidates, totalling 180 fits\n",
      "CPU times: user 45.9 s, sys: 2.93 s, total: 48.8 s\n",
      "Wall time: 35min 33s\n",
      "time taken: 2133.98 sec\n"
     ]
    }
   ],
   "source": [
    "import time\n",
    "# initial time\n",
    "ti = time.time()\n",
    "\n",
    "# grid-search cross-validation\n",
    "%time gscv.fit(X_train,y_train)\n",
    "\n",
    "# final time \n",
    "tf = time.time()\n",
    "\n",
    "# time taken\n",
    "print(f\"time taken: {round(tf-ti,2)} sec\")"
=======
      "Fitting 5 folds for each of 36 candidates, totalling 180 fits\n"
     ]
    },
    {
     "data": {
      "text/html": [
       "<style>#sk-container-id-2 {color: black;background-color: white;}#sk-container-id-2 pre{padding: 0;}#sk-container-id-2 div.sk-toggleable {background-color: white;}#sk-container-id-2 label.sk-toggleable__label {cursor: pointer;display: block;width: 100%;margin-bottom: 0;padding: 0.3em;box-sizing: border-box;text-align: center;}#sk-container-id-2 label.sk-toggleable__label-arrow:before {content: \"▸\";float: left;margin-right: 0.25em;color: #696969;}#sk-container-id-2 label.sk-toggleable__label-arrow:hover:before {color: black;}#sk-container-id-2 div.sk-estimator:hover label.sk-toggleable__label-arrow:before {color: black;}#sk-container-id-2 div.sk-toggleable__content {max-height: 0;max-width: 0;overflow: hidden;text-align: left;background-color: #f0f8ff;}#sk-container-id-2 div.sk-toggleable__content pre {margin: 0.2em;color: black;border-radius: 0.25em;background-color: #f0f8ff;}#sk-container-id-2 input.sk-toggleable__control:checked~div.sk-toggleable__content {max-height: 200px;max-width: 100%;overflow: auto;}#sk-container-id-2 input.sk-toggleable__control:checked~label.sk-toggleable__label-arrow:before {content: \"▾\";}#sk-container-id-2 div.sk-estimator input.sk-toggleable__control:checked~label.sk-toggleable__label {background-color: #d4ebff;}#sk-container-id-2 div.sk-label input.sk-toggleable__control:checked~label.sk-toggleable__label {background-color: #d4ebff;}#sk-container-id-2 input.sk-hidden--visually {border: 0;clip: rect(1px 1px 1px 1px);clip: rect(1px, 1px, 1px, 1px);height: 1px;margin: -1px;overflow: hidden;padding: 0;position: absolute;width: 1px;}#sk-container-id-2 div.sk-estimator {font-family: monospace;background-color: #f0f8ff;border: 1px dotted black;border-radius: 0.25em;box-sizing: border-box;margin-bottom: 0.5em;}#sk-container-id-2 div.sk-estimator:hover {background-color: #d4ebff;}#sk-container-id-2 div.sk-parallel-item::after {content: \"\";width: 100%;border-bottom: 1px solid gray;flex-grow: 1;}#sk-container-id-2 div.sk-label:hover label.sk-toggleable__label {background-color: #d4ebff;}#sk-container-id-2 div.sk-serial::before {content: \"\";position: absolute;border-left: 1px solid gray;box-sizing: border-box;top: 0;bottom: 0;left: 50%;z-index: 0;}#sk-container-id-2 div.sk-serial {display: flex;flex-direction: column;align-items: center;background-color: white;padding-right: 0.2em;padding-left: 0.2em;position: relative;}#sk-container-id-2 div.sk-item {position: relative;z-index: 1;}#sk-container-id-2 div.sk-parallel {display: flex;align-items: stretch;justify-content: center;background-color: white;position: relative;}#sk-container-id-2 div.sk-item::before, #sk-container-id-2 div.sk-parallel-item::before {content: \"\";position: absolute;border-left: 1px solid gray;box-sizing: border-box;top: 0;bottom: 0;left: 50%;z-index: -1;}#sk-container-id-2 div.sk-parallel-item {display: flex;flex-direction: column;z-index: 1;position: relative;background-color: white;}#sk-container-id-2 div.sk-parallel-item:first-child::after {align-self: flex-end;width: 50%;}#sk-container-id-2 div.sk-parallel-item:last-child::after {align-self: flex-start;width: 50%;}#sk-container-id-2 div.sk-parallel-item:only-child::after {width: 0;}#sk-container-id-2 div.sk-dashed-wrapped {border: 1px dashed gray;margin: 0 0.4em 0.5em 0.4em;box-sizing: border-box;padding-bottom: 0.4em;background-color: white;}#sk-container-id-2 div.sk-label label {font-family: monospace;font-weight: bold;display: inline-block;line-height: 1.2em;}#sk-container-id-2 div.sk-label-container {text-align: center;}#sk-container-id-2 div.sk-container {/* jupyter's `normalize.less` sets `[hidden] { display: none; }` but bootstrap.min.css set `[hidden] { display: none !important; }` so we also need the `!important` here to be able to override the default hidden behavior on the sphinx rendered scikit-learn.org. See: https://github.com/scikit-learn/scikit-learn/issues/21755 */display: inline-block !important;position: relative;}#sk-container-id-2 div.sk-text-repr-fallback {display: none;}</style><div id=\"sk-container-id-2\" class=\"sk-top-container\"><div class=\"sk-text-repr-fallback\"><pre>GridSearchCV(cv=5,\n",
       "             estimator=Pipeline(steps=[(&#x27;preprocessor&#x27;,\n",
       "                                        ColumnTransformer(transformers=[(&#x27;num_transformer&#x27;,\n",
       "                                                                         Pipeline(steps=[(&#x27;imputer&#x27;,\n",
       "                                                                                          SimpleImputer()),\n",
       "                                                                                         (&#x27;scaling&#x27;,\n",
       "                                                                                          StandardScaler())]),\n",
       "                                                                         [&#x27;household_size&#x27;,\n",
       "                                                                          &#x27;age_of_respondent&#x27;]),\n",
       "                                                                        (&#x27;cat_transformer&#x27;,\n",
       "                                                                         Pipeline(steps=[(&#x27;imputer&#x27;,\n",
       "                                                                                          SimpleImputer(strategy=&#x27;most_frequent&#x27;)),\n",
       "                                                                                         (&#x27;onehot&#x27;,\n",
       "                                                                                          OneHotEncoder(drop=&#x27;first&#x27;,...\n",
       "                                                                          &#x27;education_level&#x27;,\n",
       "                                                                          &#x27;job_type&#x27;])])),\n",
       "                                       (&#x27;classifier&#x27;,\n",
       "                                        LogisticRegression(max_iter=10000,\n",
       "                                                           solver=&#x27;saga&#x27;))]),\n",
       "             n_jobs=-1,\n",
       "             param_grid={&#x27;classifier__C&#x27;: [0.1, 1.0, 10.0],\n",
       "                         &#x27;classifier__penalty&#x27;: [&#x27;l1&#x27;, &#x27;l2&#x27;],\n",
       "                         &#x27;preprocessor__num_transformer__imputer__strategy&#x27;: [&#x27;mean&#x27;,\n",
       "                                                                              &#x27;median&#x27;],\n",
       "                         &#x27;preprocessor__num_transformer__scaling&#x27;: [StandardScaler(),\n",
       "                                                                    MinMaxScaler(),\n",
       "                                                                    None]},\n",
       "             scoring=&#x27;accuracy&#x27;, verbose=1)</pre><b>In a Jupyter environment, please rerun this cell to show the HTML representation or trust the notebook. <br />On GitHub, the HTML representation is unable to render, please try loading this page with nbviewer.org.</b></div><div class=\"sk-container\" hidden><div class=\"sk-item sk-dashed-wrapped\"><div class=\"sk-label-container\"><div class=\"sk-label sk-toggleable\"><input class=\"sk-toggleable__control sk-hidden--visually\" id=\"sk-estimator-id-10\" type=\"checkbox\" ><label for=\"sk-estimator-id-10\" class=\"sk-toggleable__label sk-toggleable__label-arrow\">GridSearchCV</label><div class=\"sk-toggleable__content\"><pre>GridSearchCV(cv=5,\n",
       "             estimator=Pipeline(steps=[(&#x27;preprocessor&#x27;,\n",
       "                                        ColumnTransformer(transformers=[(&#x27;num_transformer&#x27;,\n",
       "                                                                         Pipeline(steps=[(&#x27;imputer&#x27;,\n",
       "                                                                                          SimpleImputer()),\n",
       "                                                                                         (&#x27;scaling&#x27;,\n",
       "                                                                                          StandardScaler())]),\n",
       "                                                                         [&#x27;household_size&#x27;,\n",
       "                                                                          &#x27;age_of_respondent&#x27;]),\n",
       "                                                                        (&#x27;cat_transformer&#x27;,\n",
       "                                                                         Pipeline(steps=[(&#x27;imputer&#x27;,\n",
       "                                                                                          SimpleImputer(strategy=&#x27;most_frequent&#x27;)),\n",
       "                                                                                         (&#x27;onehot&#x27;,\n",
       "                                                                                          OneHotEncoder(drop=&#x27;first&#x27;,...\n",
       "                                                                          &#x27;education_level&#x27;,\n",
       "                                                                          &#x27;job_type&#x27;])])),\n",
       "                                       (&#x27;classifier&#x27;,\n",
       "                                        LogisticRegression(max_iter=10000,\n",
       "                                                           solver=&#x27;saga&#x27;))]),\n",
       "             n_jobs=-1,\n",
       "             param_grid={&#x27;classifier__C&#x27;: [0.1, 1.0, 10.0],\n",
       "                         &#x27;classifier__penalty&#x27;: [&#x27;l1&#x27;, &#x27;l2&#x27;],\n",
       "                         &#x27;preprocessor__num_transformer__imputer__strategy&#x27;: [&#x27;mean&#x27;,\n",
       "                                                                              &#x27;median&#x27;],\n",
       "                         &#x27;preprocessor__num_transformer__scaling&#x27;: [StandardScaler(),\n",
       "                                                                    MinMaxScaler(),\n",
       "                                                                    None]},\n",
       "             scoring=&#x27;accuracy&#x27;, verbose=1)</pre></div></div></div><div class=\"sk-parallel\"><div class=\"sk-parallel-item\"><div class=\"sk-item\"><div class=\"sk-label-container\"><div class=\"sk-label sk-toggleable\"><input class=\"sk-toggleable__control sk-hidden--visually\" id=\"sk-estimator-id-11\" type=\"checkbox\" ><label for=\"sk-estimator-id-11\" class=\"sk-toggleable__label sk-toggleable__label-arrow\">estimator: Pipeline</label><div class=\"sk-toggleable__content\"><pre>Pipeline(steps=[(&#x27;preprocessor&#x27;,\n",
       "                 ColumnTransformer(transformers=[(&#x27;num_transformer&#x27;,\n",
       "                                                  Pipeline(steps=[(&#x27;imputer&#x27;,\n",
       "                                                                   SimpleImputer()),\n",
       "                                                                  (&#x27;scaling&#x27;,\n",
       "                                                                   StandardScaler())]),\n",
       "                                                  [&#x27;household_size&#x27;,\n",
       "                                                   &#x27;age_of_respondent&#x27;]),\n",
       "                                                 (&#x27;cat_transformer&#x27;,\n",
       "                                                  Pipeline(steps=[(&#x27;imputer&#x27;,\n",
       "                                                                   SimpleImputer(strategy=&#x27;most_frequent&#x27;)),\n",
       "                                                                  (&#x27;onehot&#x27;,\n",
       "                                                                   OneHotEncoder(drop=&#x27;first&#x27;,\n",
       "                                                                                 handle_unknown=&#x27;ignore&#x27;))]),\n",
       "                                                  [&#x27;location_type&#x27;,\n",
       "                                                   &#x27;cellphone_access&#x27;,\n",
       "                                                   &#x27;gender_of_respondent&#x27;,\n",
       "                                                   &#x27;marital_status&#x27;,\n",
       "                                                   &#x27;education_level&#x27;,\n",
       "                                                   &#x27;job_type&#x27;])])),\n",
       "                (&#x27;classifier&#x27;,\n",
       "                 LogisticRegression(max_iter=10000, solver=&#x27;saga&#x27;))])</pre></div></div></div><div class=\"sk-serial\"><div class=\"sk-item\"><div class=\"sk-serial\"><div class=\"sk-item sk-dashed-wrapped\"><div class=\"sk-label-container\"><div class=\"sk-label sk-toggleable\"><input class=\"sk-toggleable__control sk-hidden--visually\" id=\"sk-estimator-id-12\" type=\"checkbox\" ><label for=\"sk-estimator-id-12\" class=\"sk-toggleable__label sk-toggleable__label-arrow\">preprocessor: ColumnTransformer</label><div class=\"sk-toggleable__content\"><pre>ColumnTransformer(transformers=[(&#x27;num_transformer&#x27;,\n",
       "                                 Pipeline(steps=[(&#x27;imputer&#x27;, SimpleImputer()),\n",
       "                                                 (&#x27;scaling&#x27;,\n",
       "                                                  StandardScaler())]),\n",
       "                                 [&#x27;household_size&#x27;, &#x27;age_of_respondent&#x27;]),\n",
       "                                (&#x27;cat_transformer&#x27;,\n",
       "                                 Pipeline(steps=[(&#x27;imputer&#x27;,\n",
       "                                                  SimpleImputer(strategy=&#x27;most_frequent&#x27;)),\n",
       "                                                 (&#x27;onehot&#x27;,\n",
       "                                                  OneHotEncoder(drop=&#x27;first&#x27;,\n",
       "                                                                handle_unknown=&#x27;ignore&#x27;))]),\n",
       "                                 [&#x27;location_type&#x27;, &#x27;cellphone_access&#x27;,\n",
       "                                  &#x27;gender_of_respondent&#x27;, &#x27;marital_status&#x27;,\n",
       "                                  &#x27;education_level&#x27;, &#x27;job_type&#x27;])])</pre></div></div></div><div class=\"sk-parallel\"><div class=\"sk-parallel-item\"><div class=\"sk-item\"><div class=\"sk-label-container\"><div class=\"sk-label sk-toggleable\"><input class=\"sk-toggleable__control sk-hidden--visually\" id=\"sk-estimator-id-13\" type=\"checkbox\" ><label for=\"sk-estimator-id-13\" class=\"sk-toggleable__label sk-toggleable__label-arrow\">num_transformer</label><div class=\"sk-toggleable__content\"><pre>[&#x27;household_size&#x27;, &#x27;age_of_respondent&#x27;]</pre></div></div></div><div class=\"sk-serial\"><div class=\"sk-item\"><div class=\"sk-serial\"><div class=\"sk-item\"><div class=\"sk-estimator sk-toggleable\"><input class=\"sk-toggleable__control sk-hidden--visually\" id=\"sk-estimator-id-14\" type=\"checkbox\" ><label for=\"sk-estimator-id-14\" class=\"sk-toggleable__label sk-toggleable__label-arrow\">SimpleImputer</label><div class=\"sk-toggleable__content\"><pre>SimpleImputer()</pre></div></div></div><div class=\"sk-item\"><div class=\"sk-estimator sk-toggleable\"><input class=\"sk-toggleable__control sk-hidden--visually\" id=\"sk-estimator-id-15\" type=\"checkbox\" ><label for=\"sk-estimator-id-15\" class=\"sk-toggleable__label sk-toggleable__label-arrow\">StandardScaler</label><div class=\"sk-toggleable__content\"><pre>StandardScaler()</pre></div></div></div></div></div></div></div></div><div class=\"sk-parallel-item\"><div class=\"sk-item\"><div class=\"sk-label-container\"><div class=\"sk-label sk-toggleable\"><input class=\"sk-toggleable__control sk-hidden--visually\" id=\"sk-estimator-id-16\" type=\"checkbox\" ><label for=\"sk-estimator-id-16\" class=\"sk-toggleable__label sk-toggleable__label-arrow\">cat_transformer</label><div class=\"sk-toggleable__content\"><pre>[&#x27;location_type&#x27;, &#x27;cellphone_access&#x27;, &#x27;gender_of_respondent&#x27;, &#x27;marital_status&#x27;, &#x27;education_level&#x27;, &#x27;job_type&#x27;]</pre></div></div></div><div class=\"sk-serial\"><div class=\"sk-item\"><div class=\"sk-serial\"><div class=\"sk-item\"><div class=\"sk-estimator sk-toggleable\"><input class=\"sk-toggleable__control sk-hidden--visually\" id=\"sk-estimator-id-17\" type=\"checkbox\" ><label for=\"sk-estimator-id-17\" class=\"sk-toggleable__label sk-toggleable__label-arrow\">SimpleImputer</label><div class=\"sk-toggleable__content\"><pre>SimpleImputer(strategy=&#x27;most_frequent&#x27;)</pre></div></div></div><div class=\"sk-item\"><div class=\"sk-estimator sk-toggleable\"><input class=\"sk-toggleable__control sk-hidden--visually\" id=\"sk-estimator-id-18\" type=\"checkbox\" ><label for=\"sk-estimator-id-18\" class=\"sk-toggleable__label sk-toggleable__label-arrow\">OneHotEncoder</label><div class=\"sk-toggleable__content\"><pre>OneHotEncoder(drop=&#x27;first&#x27;, handle_unknown=&#x27;ignore&#x27;)</pre></div></div></div></div></div></div></div></div></div></div><div class=\"sk-item\"><div class=\"sk-estimator sk-toggleable\"><input class=\"sk-toggleable__control sk-hidden--visually\" id=\"sk-estimator-id-19\" type=\"checkbox\" ><label for=\"sk-estimator-id-19\" class=\"sk-toggleable__label sk-toggleable__label-arrow\">LogisticRegression</label><div class=\"sk-toggleable__content\"><pre>LogisticRegression(max_iter=10000, solver=&#x27;saga&#x27;)</pre></div></div></div></div></div></div></div></div></div></div></div></div>"
      ],
      "text/plain": [
       "GridSearchCV(cv=5,\n",
       "             estimator=Pipeline(steps=[('preprocessor',\n",
       "                                        ColumnTransformer(transformers=[('num_transformer',\n",
       "                                                                         Pipeline(steps=[('imputer',\n",
       "                                                                                          SimpleImputer()),\n",
       "                                                                                         ('scaling',\n",
       "                                                                                          StandardScaler())]),\n",
       "                                                                         ['household_size',\n",
       "                                                                          'age_of_respondent']),\n",
       "                                                                        ('cat_transformer',\n",
       "                                                                         Pipeline(steps=[('imputer',\n",
       "                                                                                          SimpleImputer(strategy='most_frequent')),\n",
       "                                                                                         ('onehot',\n",
       "                                                                                          OneHotEncoder(drop='first',...\n",
       "                                                                          'education_level',\n",
       "                                                                          'job_type'])])),\n",
       "                                       ('classifier',\n",
       "                                        LogisticRegression(max_iter=10000,\n",
       "                                                           solver='saga'))]),\n",
       "             n_jobs=-1,\n",
       "             param_grid={'classifier__C': [0.1, 1.0, 10.0],\n",
       "                         'classifier__penalty': ['l1', 'l2'],\n",
       "                         'preprocessor__num_transformer__imputer__strategy': ['mean',\n",
       "                                                                              'median'],\n",
       "                         'preprocessor__num_transformer__scaling': [StandardScaler(),\n",
       "                                                                    MinMaxScaler(),\n",
       "                                                                    None]},\n",
       "             scoring='accuracy', verbose=1)"
      ]
     },
     "execution_count": 16,
     "metadata": {},
     "output_type": "execute_result"
    }
   ],
   "source": [
    "gscv.fit(X_train, y_train)"
>>>>>>> 0d0c885b2f88f61799e66ab47f1771d3e0ca0491
   ]
  },
  {
   "cell_type": "code",
<<<<<<< HEAD
   "execution_count": 22,
=======
   "execution_count": 17,
>>>>>>> 0d0c885b2f88f61799e66ab47f1771d3e0ca0491
   "id": "86d00da6-b47a-4dce-adac-ffd0f20f1b1a",
   "metadata": {
    "tags": []
   },
   "outputs": [
    {
     "data": {
      "text/html": [
       "<div>\n",
       "<style scoped>\n",
       "    .dataframe tbody tr th:only-of-type {\n",
       "        vertical-align: middle;\n",
       "    }\n",
       "\n",
       "    .dataframe tbody tr th {\n",
       "        vertical-align: top;\n",
       "    }\n",
       "\n",
       "    .dataframe thead th {\n",
       "        text-align: right;\n",
       "    }\n",
       "</style>\n",
       "<table border=\"1\" class=\"dataframe\">\n",
       "  <thead>\n",
       "    <tr style=\"text-align: right;\">\n",
       "      <th></th>\n",
       "      <th>mean_fit_time</th>\n",
       "      <th>std_fit_time</th>\n",
       "      <th>mean_score_time</th>\n",
       "      <th>std_score_time</th>\n",
       "      <th>param_classifier__C</th>\n",
       "      <th>param_classifier__penalty</th>\n",
       "      <th>param_preprocessor__num_transformer__imputer__strategy</th>\n",
       "      <th>param_preprocessor__num_transformer__scaling</th>\n",
       "      <th>params</th>\n",
       "      <th>split0_test_score</th>\n",
       "      <th>split1_test_score</th>\n",
       "      <th>split2_test_score</th>\n",
       "      <th>split3_test_score</th>\n",
       "      <th>split4_test_score</th>\n",
       "      <th>mean_test_score</th>\n",
       "      <th>std_test_score</th>\n",
       "      <th>rank_test_score</th>\n",
       "    </tr>\n",
       "  </thead>\n",
       "  <tbody>\n",
       "    <tr>\n",
       "      <th>0</th>\n",
<<<<<<< HEAD
       "      <td>64.549605</td>\n",
       "      <td>17.637400</td>\n",
       "      <td>0.034699</td>\n",
       "      <td>0.003120</td>\n",
=======
       "      <td>6.455817</td>\n",
       "      <td>0.573020</td>\n",
       "      <td>0.042875</td>\n",
       "      <td>0.008153</td>\n",
>>>>>>> 0d0c885b2f88f61799e66ab47f1771d3e0ca0491
       "      <td>0.1</td>\n",
       "      <td>l1</td>\n",
       "      <td>mean</td>\n",
       "      <td>StandardScaler()</td>\n",
       "      <td>{'classifier__C': 0.1, 'classifier__penalty': ...</td>\n",
<<<<<<< HEAD
       "      <td>0.883900</td>\n",
       "      <td>0.882837</td>\n",
       "      <td>0.883634</td>\n",
       "      <td>0.882837</td>\n",
       "      <td>0.880149</td>\n",
       "      <td>0.882672</td>\n",
       "      <td>0.001331</td>\n",
       "      <td>9</td>\n",
       "    </tr>\n",
       "    <tr>\n",
       "      <th>1</th>\n",
       "      <td>0.515870</td>\n",
       "      <td>0.022354</td>\n",
       "      <td>0.033921</td>\n",
       "      <td>0.000829</td>\n",
=======
       "      <td>0.881906</td>\n",
       "      <td>0.880049</td>\n",
       "      <td>0.886729</td>\n",
       "      <td>0.879745</td>\n",
       "      <td>0.878227</td>\n",
       "      <td>0.881331</td>\n",
       "      <td>0.002942</td>\n",
       "      <td>21</td>\n",
       "    </tr>\n",
       "    <tr>\n",
       "      <th>1</th>\n",
       "      <td>2.572003</td>\n",
       "      <td>0.102310</td>\n",
       "      <td>0.036425</td>\n",
       "      <td>0.007072</td>\n",
>>>>>>> 0d0c885b2f88f61799e66ab47f1771d3e0ca0491
       "      <td>0.1</td>\n",
       "      <td>l1</td>\n",
       "      <td>mean</td>\n",
       "      <td>MinMaxScaler()</td>\n",
       "      <td>{'classifier__C': 0.1, 'classifier__penalty': ...</td>\n",
<<<<<<< HEAD
       "      <td>0.882306</td>\n",
       "      <td>0.881243</td>\n",
       "      <td>0.880978</td>\n",
       "      <td>0.881509</td>\n",
       "      <td>0.879352</td>\n",
       "      <td>0.881078</td>\n",
       "      <td>0.000971</td>\n",
=======
       "      <td>0.881603</td>\n",
       "      <td>0.877923</td>\n",
       "      <td>0.886729</td>\n",
       "      <td>0.878227</td>\n",
       "      <td>0.877316</td>\n",
       "      <td>0.880359</td>\n",
       "      <td>0.003518</td>\n",
>>>>>>> 0d0c885b2f88f61799e66ab47f1771d3e0ca0491
       "      <td>23</td>\n",
       "    </tr>\n",
       "    <tr>\n",
       "      <th>2</th>\n",
<<<<<<< HEAD
       "      <td>58.564428</td>\n",
       "      <td>2.514091</td>\n",
       "      <td>0.040957</td>\n",
       "      <td>0.001250</td>\n",
=======
       "      <td>17.102521</td>\n",
       "      <td>0.648120</td>\n",
       "      <td>0.040363</td>\n",
       "      <td>0.003910</td>\n",
>>>>>>> 0d0c885b2f88f61799e66ab47f1771d3e0ca0491
       "      <td>0.1</td>\n",
       "      <td>l1</td>\n",
       "      <td>mean</td>\n",
       "      <td>None</td>\n",
       "      <td>{'classifier__C': 0.1, 'classifier__penalty': ...</td>\n",
<<<<<<< HEAD
       "      <td>0.858130</td>\n",
       "      <td>0.858395</td>\n",
       "      <td>0.858130</td>\n",
       "      <td>0.859192</td>\n",
       "      <td>0.857029</td>\n",
       "      <td>0.858175</td>\n",
       "      <td>0.000693</td>\n",
       "      <td>25</td>\n",
       "    </tr>\n",
       "    <tr>\n",
       "      <th>3</th>\n",
       "      <td>94.251078</td>\n",
       "      <td>28.786275</td>\n",
       "      <td>0.089501</td>\n",
       "      <td>0.049713</td>\n",
=======
       "      <td>0.880085</td>\n",
       "      <td>0.874279</td>\n",
       "      <td>0.886122</td>\n",
       "      <td>0.879441</td>\n",
       "      <td>0.874582</td>\n",
       "      <td>0.878902</td>\n",
       "      <td>0.004332</td>\n",
       "      <td>27</td>\n",
       "    </tr>\n",
       "    <tr>\n",
       "      <th>3</th>\n",
       "      <td>6.953498</td>\n",
       "      <td>0.696674</td>\n",
       "      <td>0.032732</td>\n",
       "      <td>0.004041</td>\n",
>>>>>>> 0d0c885b2f88f61799e66ab47f1771d3e0ca0491
       "      <td>0.1</td>\n",
       "      <td>l1</td>\n",
       "      <td>median</td>\n",
       "      <td>StandardScaler()</td>\n",
       "      <td>{'classifier__C': 0.1, 'classifier__penalty': ...</td>\n",
<<<<<<< HEAD
       "      <td>0.883900</td>\n",
       "      <td>0.882837</td>\n",
       "      <td>0.883634</td>\n",
       "      <td>0.882837</td>\n",
       "      <td>0.880149</td>\n",
       "      <td>0.882672</td>\n",
       "      <td>0.001331</td>\n",
       "      <td>9</td>\n",
       "    </tr>\n",
       "    <tr>\n",
       "      <th>4</th>\n",
       "      <td>0.676178</td>\n",
       "      <td>0.012134</td>\n",
       "      <td>0.042868</td>\n",
       "      <td>0.004706</td>\n",
=======
       "      <td>0.881906</td>\n",
       "      <td>0.880049</td>\n",
       "      <td>0.886729</td>\n",
       "      <td>0.879745</td>\n",
       "      <td>0.878227</td>\n",
       "      <td>0.881331</td>\n",
       "      <td>0.002942</td>\n",
       "      <td>21</td>\n",
       "    </tr>\n",
       "    <tr>\n",
       "      <th>4</th>\n",
       "      <td>2.881768</td>\n",
       "      <td>0.176020</td>\n",
       "      <td>0.034666</td>\n",
       "      <td>0.003374</td>\n",
>>>>>>> 0d0c885b2f88f61799e66ab47f1771d3e0ca0491
       "      <td>0.1</td>\n",
       "      <td>l1</td>\n",
       "      <td>median</td>\n",
       "      <td>MinMaxScaler()</td>\n",
       "      <td>{'classifier__C': 0.1, 'classifier__penalty': ...</td>\n",
<<<<<<< HEAD
       "      <td>0.882306</td>\n",
       "      <td>0.881243</td>\n",
       "      <td>0.880978</td>\n",
       "      <td>0.881509</td>\n",
       "      <td>0.879352</td>\n",
       "      <td>0.881078</td>\n",
       "      <td>0.000971</td>\n",
=======
       "      <td>0.881603</td>\n",
       "      <td>0.877923</td>\n",
       "      <td>0.886729</td>\n",
       "      <td>0.878227</td>\n",
       "      <td>0.877316</td>\n",
       "      <td>0.880359</td>\n",
       "      <td>0.003518</td>\n",
>>>>>>> 0d0c885b2f88f61799e66ab47f1771d3e0ca0491
       "      <td>23</td>\n",
       "    </tr>\n",
       "  </tbody>\n",
       "</table>\n",
       "</div>"
      ],
      "text/plain": [
       "   mean_fit_time  std_fit_time  mean_score_time  std_score_time   \n",
<<<<<<< HEAD
       "0      64.549605     17.637400         0.034699        0.003120  \\\n",
       "1       0.515870      0.022354         0.033921        0.000829   \n",
       "2      58.564428      2.514091         0.040957        0.001250   \n",
       "3      94.251078     28.786275         0.089501        0.049713   \n",
       "4       0.676178      0.012134         0.042868        0.004706   \n",
=======
       "0       6.455817      0.573020         0.042875        0.008153  \\\n",
       "1       2.572003      0.102310         0.036425        0.007072   \n",
       "2      17.102521      0.648120         0.040363        0.003910   \n",
       "3       6.953498      0.696674         0.032732        0.004041   \n",
       "4       2.881768      0.176020         0.034666        0.003374   \n",
>>>>>>> 0d0c885b2f88f61799e66ab47f1771d3e0ca0491
       "\n",
       "  param_classifier__C param_classifier__penalty   \n",
       "0                 0.1                        l1  \\\n",
       "1                 0.1                        l1   \n",
       "2                 0.1                        l1   \n",
       "3                 0.1                        l1   \n",
       "4                 0.1                        l1   \n",
       "\n",
       "  param_preprocessor__num_transformer__imputer__strategy   \n",
       "0                                               mean      \\\n",
       "1                                               mean       \n",
       "2                                               mean       \n",
       "3                                             median       \n",
       "4                                             median       \n",
       "\n",
       "  param_preprocessor__num_transformer__scaling   \n",
       "0                             StandardScaler()  \\\n",
       "1                               MinMaxScaler()   \n",
       "2                                         None   \n",
       "3                             StandardScaler()   \n",
       "4                               MinMaxScaler()   \n",
       "\n",
       "                                              params  split0_test_score   \n",
<<<<<<< HEAD
       "0  {'classifier__C': 0.1, 'classifier__penalty': ...           0.883900  \\\n",
       "1  {'classifier__C': 0.1, 'classifier__penalty': ...           0.882306   \n",
       "2  {'classifier__C': 0.1, 'classifier__penalty': ...           0.858130   \n",
       "3  {'classifier__C': 0.1, 'classifier__penalty': ...           0.883900   \n",
       "4  {'classifier__C': 0.1, 'classifier__penalty': ...           0.882306   \n",
       "\n",
       "   split1_test_score  split2_test_score  split3_test_score  split4_test_score   \n",
       "0           0.882837           0.883634           0.882837           0.880149  \\\n",
       "1           0.881243           0.880978           0.881509           0.879352   \n",
       "2           0.858395           0.858130           0.859192           0.857029   \n",
       "3           0.882837           0.883634           0.882837           0.880149   \n",
       "4           0.881243           0.880978           0.881509           0.879352   \n",
       "\n",
       "   mean_test_score  std_test_score  rank_test_score  \n",
       "0         0.882672        0.001331                9  \n",
       "1         0.881078        0.000971               23  \n",
       "2         0.858175        0.000693               25  \n",
       "3         0.882672        0.001331                9  \n",
       "4         0.881078        0.000971               23  "
      ]
     },
     "execution_count": 22,
=======
       "0  {'classifier__C': 0.1, 'classifier__penalty': ...           0.881906  \\\n",
       "1  {'classifier__C': 0.1, 'classifier__penalty': ...           0.881603   \n",
       "2  {'classifier__C': 0.1, 'classifier__penalty': ...           0.880085   \n",
       "3  {'classifier__C': 0.1, 'classifier__penalty': ...           0.881906   \n",
       "4  {'classifier__C': 0.1, 'classifier__penalty': ...           0.881603   \n",
       "\n",
       "   split1_test_score  split2_test_score  split3_test_score  split4_test_score   \n",
       "0           0.880049           0.886729           0.879745           0.878227  \\\n",
       "1           0.877923           0.886729           0.878227           0.877316   \n",
       "2           0.874279           0.886122           0.879441           0.874582   \n",
       "3           0.880049           0.886729           0.879745           0.878227   \n",
       "4           0.877923           0.886729           0.878227           0.877316   \n",
       "\n",
       "   mean_test_score  std_test_score  rank_test_score  \n",
       "0         0.881331        0.002942               21  \n",
       "1         0.880359        0.003518               23  \n",
       "2         0.878902        0.004332               27  \n",
       "3         0.881331        0.002942               21  \n",
       "4         0.880359        0.003518               23  "
      ]
     },
     "execution_count": 17,
>>>>>>> 0d0c885b2f88f61799e66ab47f1771d3e0ca0491
     "metadata": {},
     "output_type": "execute_result"
    }
   ],
   "source": [
    "pd.DataFrame(gscv.cv_results_).head()"
   ]
  },
  {
   "cell_type": "code",
<<<<<<< HEAD
   "execution_count": 23,
=======
   "execution_count": 18,
>>>>>>> 0d0c885b2f88f61799e66ab47f1771d3e0ca0491
   "id": "80035217-3f52-4d8b-bf8e-1c199f93dbe5",
   "metadata": {
    "tags": []
   },
   "outputs": [
    {
     "data": {
      "text/plain": [
<<<<<<< HEAD
       "{'classifier__C': 10.0,\n",
=======
       "{'classifier__C': 1.0,\n",
>>>>>>> 0d0c885b2f88f61799e66ab47f1771d3e0ca0491
       " 'classifier__penalty': 'l1',\n",
       " 'preprocessor__num_transformer__imputer__strategy': 'mean',\n",
       " 'preprocessor__num_transformer__scaling': StandardScaler()}"
      ]
     },
<<<<<<< HEAD
     "execution_count": 23,
=======
     "execution_count": 18,
>>>>>>> 0d0c885b2f88f61799e66ab47f1771d3e0ca0491
     "metadata": {},
     "output_type": "execute_result"
    }
   ],
   "source": [
    "gscv.best_params_"
   ]
  },
  {
   "cell_type": "code",
<<<<<<< HEAD
   "execution_count": 24,
=======
   "execution_count": 19,
>>>>>>> 0d0c885b2f88f61799e66ab47f1771d3e0ca0491
   "id": "479434d2-c6d6-46ad-9990-617c2f847904",
   "metadata": {
    "tags": []
   },
   "outputs": [
    {
     "data": {
      "text/plain": [
<<<<<<< HEAD
       "0.883044"
      ]
     },
     "execution_count": 24,
=======
       "0.882181"
      ]
     },
     "execution_count": 19,
>>>>>>> 0d0c885b2f88f61799e66ab47f1771d3e0ca0491
     "metadata": {},
     "output_type": "execute_result"
    }
   ],
   "source": [
    "round(gscv.best_score_,6)"
   ]
  },
  {
   "cell_type": "code",
<<<<<<< HEAD
   "execution_count": 25,
=======
   "execution_count": 20,
>>>>>>> 0d0c885b2f88f61799e66ab47f1771d3e0ca0491
   "id": "99622299-f538-4c01-9847-abff312199fd",
   "metadata": {
    "tags": []
   },
   "outputs": [
    {
     "data": {
      "text/html": [
<<<<<<< HEAD
       "<style>#sk-container-id-2 {color: black;background-color: white;}#sk-container-id-2 pre{padding: 0;}#sk-container-id-2 div.sk-toggleable {background-color: white;}#sk-container-id-2 label.sk-toggleable__label {cursor: pointer;display: block;width: 100%;margin-bottom: 0;padding: 0.3em;box-sizing: border-box;text-align: center;}#sk-container-id-2 label.sk-toggleable__label-arrow:before {content: \"▸\";float: left;margin-right: 0.25em;color: #696969;}#sk-container-id-2 label.sk-toggleable__label-arrow:hover:before {color: black;}#sk-container-id-2 div.sk-estimator:hover label.sk-toggleable__label-arrow:before {color: black;}#sk-container-id-2 div.sk-toggleable__content {max-height: 0;max-width: 0;overflow: hidden;text-align: left;background-color: #f0f8ff;}#sk-container-id-2 div.sk-toggleable__content pre {margin: 0.2em;color: black;border-radius: 0.25em;background-color: #f0f8ff;}#sk-container-id-2 input.sk-toggleable__control:checked~div.sk-toggleable__content {max-height: 200px;max-width: 100%;overflow: auto;}#sk-container-id-2 input.sk-toggleable__control:checked~label.sk-toggleable__label-arrow:before {content: \"▾\";}#sk-container-id-2 div.sk-estimator input.sk-toggleable__control:checked~label.sk-toggleable__label {background-color: #d4ebff;}#sk-container-id-2 div.sk-label input.sk-toggleable__control:checked~label.sk-toggleable__label {background-color: #d4ebff;}#sk-container-id-2 input.sk-hidden--visually {border: 0;clip: rect(1px 1px 1px 1px);clip: rect(1px, 1px, 1px, 1px);height: 1px;margin: -1px;overflow: hidden;padding: 0;position: absolute;width: 1px;}#sk-container-id-2 div.sk-estimator {font-family: monospace;background-color: #f0f8ff;border: 1px dotted black;border-radius: 0.25em;box-sizing: border-box;margin-bottom: 0.5em;}#sk-container-id-2 div.sk-estimator:hover {background-color: #d4ebff;}#sk-container-id-2 div.sk-parallel-item::after {content: \"\";width: 100%;border-bottom: 1px solid gray;flex-grow: 1;}#sk-container-id-2 div.sk-label:hover label.sk-toggleable__label {background-color: #d4ebff;}#sk-container-id-2 div.sk-serial::before {content: \"\";position: absolute;border-left: 1px solid gray;box-sizing: border-box;top: 0;bottom: 0;left: 50%;z-index: 0;}#sk-container-id-2 div.sk-serial {display: flex;flex-direction: column;align-items: center;background-color: white;padding-right: 0.2em;padding-left: 0.2em;position: relative;}#sk-container-id-2 div.sk-item {position: relative;z-index: 1;}#sk-container-id-2 div.sk-parallel {display: flex;align-items: stretch;justify-content: center;background-color: white;position: relative;}#sk-container-id-2 div.sk-item::before, #sk-container-id-2 div.sk-parallel-item::before {content: \"\";position: absolute;border-left: 1px solid gray;box-sizing: border-box;top: 0;bottom: 0;left: 50%;z-index: -1;}#sk-container-id-2 div.sk-parallel-item {display: flex;flex-direction: column;z-index: 1;position: relative;background-color: white;}#sk-container-id-2 div.sk-parallel-item:first-child::after {align-self: flex-end;width: 50%;}#sk-container-id-2 div.sk-parallel-item:last-child::after {align-self: flex-start;width: 50%;}#sk-container-id-2 div.sk-parallel-item:only-child::after {width: 0;}#sk-container-id-2 div.sk-dashed-wrapped {border: 1px dashed gray;margin: 0 0.4em 0.5em 0.4em;box-sizing: border-box;padding-bottom: 0.4em;background-color: white;}#sk-container-id-2 div.sk-label label {font-family: monospace;font-weight: bold;display: inline-block;line-height: 1.2em;}#sk-container-id-2 div.sk-label-container {text-align: center;}#sk-container-id-2 div.sk-container {/* jupyter's `normalize.less` sets `[hidden] { display: none; }` but bootstrap.min.css set `[hidden] { display: none !important; }` so we also need the `!important` here to be able to override the default hidden behavior on the sphinx rendered scikit-learn.org. See: https://github.com/scikit-learn/scikit-learn/issues/21755 */display: inline-block !important;position: relative;}#sk-container-id-2 div.sk-text-repr-fallback {display: none;}</style><div id=\"sk-container-id-2\" class=\"sk-top-container\"><div class=\"sk-text-repr-fallback\"><pre>Pipeline(steps=[(&#x27;preprocessor&#x27;,\n",
       "                 ColumnTransformer(remainder=&#x27;passthrough&#x27;,\n",
       "                                   transformers=[(&#x27;num_transformer&#x27;,\n",
       "                                                  Pipeline(steps=[(&#x27;imputer&#x27;,\n",
       "                                                                   SimpleImputer()),\n",
       "                                                                  (&#x27;scaling&#x27;,\n",
       "                                                                   StandardScaler()),\n",
       "                                                                  (&#x27;poly&#x27;,\n",
       "                                                                   PolynomialFeatures(degree=3))]),\n",
=======
       "<style>#sk-container-id-3 {color: black;background-color: white;}#sk-container-id-3 pre{padding: 0;}#sk-container-id-3 div.sk-toggleable {background-color: white;}#sk-container-id-3 label.sk-toggleable__label {cursor: pointer;display: block;width: 100%;margin-bottom: 0;padding: 0.3em;box-sizing: border-box;text-align: center;}#sk-container-id-3 label.sk-toggleable__label-arrow:before {content: \"▸\";float: left;margin-right: 0.25em;color: #696969;}#sk-container-id-3 label.sk-toggleable__label-arrow:hover:before {color: black;}#sk-container-id-3 div.sk-estimator:hover label.sk-toggleable__label-arrow:before {color: black;}#sk-container-id-3 div.sk-toggleable__content {max-height: 0;max-width: 0;overflow: hidden;text-align: left;background-color: #f0f8ff;}#sk-container-id-3 div.sk-toggleable__content pre {margin: 0.2em;color: black;border-radius: 0.25em;background-color: #f0f8ff;}#sk-container-id-3 input.sk-toggleable__control:checked~div.sk-toggleable__content {max-height: 200px;max-width: 100%;overflow: auto;}#sk-container-id-3 input.sk-toggleable__control:checked~label.sk-toggleable__label-arrow:before {content: \"▾\";}#sk-container-id-3 div.sk-estimator input.sk-toggleable__control:checked~label.sk-toggleable__label {background-color: #d4ebff;}#sk-container-id-3 div.sk-label input.sk-toggleable__control:checked~label.sk-toggleable__label {background-color: #d4ebff;}#sk-container-id-3 input.sk-hidden--visually {border: 0;clip: rect(1px 1px 1px 1px);clip: rect(1px, 1px, 1px, 1px);height: 1px;margin: -1px;overflow: hidden;padding: 0;position: absolute;width: 1px;}#sk-container-id-3 div.sk-estimator {font-family: monospace;background-color: #f0f8ff;border: 1px dotted black;border-radius: 0.25em;box-sizing: border-box;margin-bottom: 0.5em;}#sk-container-id-3 div.sk-estimator:hover {background-color: #d4ebff;}#sk-container-id-3 div.sk-parallel-item::after {content: \"\";width: 100%;border-bottom: 1px solid gray;flex-grow: 1;}#sk-container-id-3 div.sk-label:hover label.sk-toggleable__label {background-color: #d4ebff;}#sk-container-id-3 div.sk-serial::before {content: \"\";position: absolute;border-left: 1px solid gray;box-sizing: border-box;top: 0;bottom: 0;left: 50%;z-index: 0;}#sk-container-id-3 div.sk-serial {display: flex;flex-direction: column;align-items: center;background-color: white;padding-right: 0.2em;padding-left: 0.2em;position: relative;}#sk-container-id-3 div.sk-item {position: relative;z-index: 1;}#sk-container-id-3 div.sk-parallel {display: flex;align-items: stretch;justify-content: center;background-color: white;position: relative;}#sk-container-id-3 div.sk-item::before, #sk-container-id-3 div.sk-parallel-item::before {content: \"\";position: absolute;border-left: 1px solid gray;box-sizing: border-box;top: 0;bottom: 0;left: 50%;z-index: -1;}#sk-container-id-3 div.sk-parallel-item {display: flex;flex-direction: column;z-index: 1;position: relative;background-color: white;}#sk-container-id-3 div.sk-parallel-item:first-child::after {align-self: flex-end;width: 50%;}#sk-container-id-3 div.sk-parallel-item:last-child::after {align-self: flex-start;width: 50%;}#sk-container-id-3 div.sk-parallel-item:only-child::after {width: 0;}#sk-container-id-3 div.sk-dashed-wrapped {border: 1px dashed gray;margin: 0 0.4em 0.5em 0.4em;box-sizing: border-box;padding-bottom: 0.4em;background-color: white;}#sk-container-id-3 div.sk-label label {font-family: monospace;font-weight: bold;display: inline-block;line-height: 1.2em;}#sk-container-id-3 div.sk-label-container {text-align: center;}#sk-container-id-3 div.sk-container {/* jupyter's `normalize.less` sets `[hidden] { display: none; }` but bootstrap.min.css set `[hidden] { display: none !important; }` so we also need the `!important` here to be able to override the default hidden behavior on the sphinx rendered scikit-learn.org. See: https://github.com/scikit-learn/scikit-learn/issues/21755 */display: inline-block !important;position: relative;}#sk-container-id-3 div.sk-text-repr-fallback {display: none;}</style><div id=\"sk-container-id-3\" class=\"sk-top-container\"><div class=\"sk-text-repr-fallback\"><pre>Pipeline(steps=[(&#x27;preprocessor&#x27;,\n",
       "                 ColumnTransformer(transformers=[(&#x27;num_transformer&#x27;,\n",
       "                                                  Pipeline(steps=[(&#x27;imputer&#x27;,\n",
       "                                                                   SimpleImputer()),\n",
       "                                                                  (&#x27;scaling&#x27;,\n",
       "                                                                   StandardScaler())]),\n",
>>>>>>> 0d0c885b2f88f61799e66ab47f1771d3e0ca0491
       "                                                  [&#x27;household_size&#x27;,\n",
       "                                                   &#x27;age_of_respondent&#x27;]),\n",
       "                                                 (&#x27;cat_transformer&#x27;,\n",
       "                                                  Pipeline(steps=[(&#x27;imputer&#x27;,\n",
       "                                                                   SimpleImputer(strategy=&#x27;most_frequent&#x27;)),\n",
       "                                                                  (&#x27;onehot&#x27;,\n",
       "                                                                   OneHotEncoder(drop=&#x27;first&#x27;,\n",
       "                                                                                 handle_unknown=&#x27;ignore&#x27;))]),\n",
       "                                                  [&#x27;location_type&#x27;,\n",
       "                                                   &#x27;cellphone_access&#x27;,\n",
       "                                                   &#x27;gender_of_respondent&#x27;,\n",
       "                                                   &#x27;marital_status&#x27;,\n",
       "                                                   &#x27;education_level&#x27;,\n",
       "                                                   &#x27;job_type&#x27;])])),\n",
       "                (&#x27;classifier&#x27;,\n",
<<<<<<< HEAD
       "                 LogisticRegression(C=10.0, max_iter=10000, penalty=&#x27;l1&#x27;,\n",
       "                                    solver=&#x27;saga&#x27;))])</pre><b>In a Jupyter environment, please rerun this cell to show the HTML representation or trust the notebook. <br />On GitHub, the HTML representation is unable to render, please try loading this page with nbviewer.org.</b></div><div class=\"sk-container\" hidden><div class=\"sk-item sk-dashed-wrapped\"><div class=\"sk-label-container\"><div class=\"sk-label sk-toggleable\"><input class=\"sk-toggleable__control sk-hidden--visually\" id=\"sk-estimator-id-13\" type=\"checkbox\" ><label for=\"sk-estimator-id-13\" class=\"sk-toggleable__label sk-toggleable__label-arrow\">Pipeline</label><div class=\"sk-toggleable__content\"><pre>Pipeline(steps=[(&#x27;preprocessor&#x27;,\n",
       "                 ColumnTransformer(remainder=&#x27;passthrough&#x27;,\n",
       "                                   transformers=[(&#x27;num_transformer&#x27;,\n",
       "                                                  Pipeline(steps=[(&#x27;imputer&#x27;,\n",
       "                                                                   SimpleImputer()),\n",
       "                                                                  (&#x27;scaling&#x27;,\n",
       "                                                                   StandardScaler()),\n",
       "                                                                  (&#x27;poly&#x27;,\n",
       "                                                                   PolynomialFeatures(degree=3))]),\n",
=======
       "                 LogisticRegression(max_iter=10000, penalty=&#x27;l1&#x27;,\n",
       "                                    solver=&#x27;saga&#x27;))])</pre><b>In a Jupyter environment, please rerun this cell to show the HTML representation or trust the notebook. <br />On GitHub, the HTML representation is unable to render, please try loading this page with nbviewer.org.</b></div><div class=\"sk-container\" hidden><div class=\"sk-item sk-dashed-wrapped\"><div class=\"sk-label-container\"><div class=\"sk-label sk-toggleable\"><input class=\"sk-toggleable__control sk-hidden--visually\" id=\"sk-estimator-id-20\" type=\"checkbox\" ><label for=\"sk-estimator-id-20\" class=\"sk-toggleable__label sk-toggleable__label-arrow\">Pipeline</label><div class=\"sk-toggleable__content\"><pre>Pipeline(steps=[(&#x27;preprocessor&#x27;,\n",
       "                 ColumnTransformer(transformers=[(&#x27;num_transformer&#x27;,\n",
       "                                                  Pipeline(steps=[(&#x27;imputer&#x27;,\n",
       "                                                                   SimpleImputer()),\n",
       "                                                                  (&#x27;scaling&#x27;,\n",
       "                                                                   StandardScaler())]),\n",
>>>>>>> 0d0c885b2f88f61799e66ab47f1771d3e0ca0491
       "                                                  [&#x27;household_size&#x27;,\n",
       "                                                   &#x27;age_of_respondent&#x27;]),\n",
       "                                                 (&#x27;cat_transformer&#x27;,\n",
       "                                                  Pipeline(steps=[(&#x27;imputer&#x27;,\n",
       "                                                                   SimpleImputer(strategy=&#x27;most_frequent&#x27;)),\n",
       "                                                                  (&#x27;onehot&#x27;,\n",
       "                                                                   OneHotEncoder(drop=&#x27;first&#x27;,\n",
       "                                                                                 handle_unknown=&#x27;ignore&#x27;))]),\n",
       "                                                  [&#x27;location_type&#x27;,\n",
       "                                                   &#x27;cellphone_access&#x27;,\n",
       "                                                   &#x27;gender_of_respondent&#x27;,\n",
       "                                                   &#x27;marital_status&#x27;,\n",
       "                                                   &#x27;education_level&#x27;,\n",
       "                                                   &#x27;job_type&#x27;])])),\n",
       "                (&#x27;classifier&#x27;,\n",
<<<<<<< HEAD
       "                 LogisticRegression(C=10.0, max_iter=10000, penalty=&#x27;l1&#x27;,\n",
       "                                    solver=&#x27;saga&#x27;))])</pre></div></div></div><div class=\"sk-serial\"><div class=\"sk-item sk-dashed-wrapped\"><div class=\"sk-label-container\"><div class=\"sk-label sk-toggleable\"><input class=\"sk-toggleable__control sk-hidden--visually\" id=\"sk-estimator-id-14\" type=\"checkbox\" ><label for=\"sk-estimator-id-14\" class=\"sk-toggleable__label sk-toggleable__label-arrow\">preprocessor: ColumnTransformer</label><div class=\"sk-toggleable__content\"><pre>ColumnTransformer(remainder=&#x27;passthrough&#x27;,\n",
       "                  transformers=[(&#x27;num_transformer&#x27;,\n",
       "                                 Pipeline(steps=[(&#x27;imputer&#x27;, SimpleImputer()),\n",
       "                                                 (&#x27;scaling&#x27;, StandardScaler()),\n",
       "                                                 (&#x27;poly&#x27;,\n",
       "                                                  PolynomialFeatures(degree=3))]),\n",
=======
       "                 LogisticRegression(max_iter=10000, penalty=&#x27;l1&#x27;,\n",
       "                                    solver=&#x27;saga&#x27;))])</pre></div></div></div><div class=\"sk-serial\"><div class=\"sk-item sk-dashed-wrapped\"><div class=\"sk-label-container\"><div class=\"sk-label sk-toggleable\"><input class=\"sk-toggleable__control sk-hidden--visually\" id=\"sk-estimator-id-21\" type=\"checkbox\" ><label for=\"sk-estimator-id-21\" class=\"sk-toggleable__label sk-toggleable__label-arrow\">preprocessor: ColumnTransformer</label><div class=\"sk-toggleable__content\"><pre>ColumnTransformer(transformers=[(&#x27;num_transformer&#x27;,\n",
       "                                 Pipeline(steps=[(&#x27;imputer&#x27;, SimpleImputer()),\n",
       "                                                 (&#x27;scaling&#x27;,\n",
       "                                                  StandardScaler())]),\n",
>>>>>>> 0d0c885b2f88f61799e66ab47f1771d3e0ca0491
       "                                 [&#x27;household_size&#x27;, &#x27;age_of_respondent&#x27;]),\n",
       "                                (&#x27;cat_transformer&#x27;,\n",
       "                                 Pipeline(steps=[(&#x27;imputer&#x27;,\n",
       "                                                  SimpleImputer(strategy=&#x27;most_frequent&#x27;)),\n",
       "                                                 (&#x27;onehot&#x27;,\n",
       "                                                  OneHotEncoder(drop=&#x27;first&#x27;,\n",
       "                                                                handle_unknown=&#x27;ignore&#x27;))]),\n",
       "                                 [&#x27;location_type&#x27;, &#x27;cellphone_access&#x27;,\n",
       "                                  &#x27;gender_of_respondent&#x27;, &#x27;marital_status&#x27;,\n",
<<<<<<< HEAD
       "                                  &#x27;education_level&#x27;, &#x27;job_type&#x27;])])</pre></div></div></div><div class=\"sk-parallel\"><div class=\"sk-parallel-item\"><div class=\"sk-item\"><div class=\"sk-label-container\"><div class=\"sk-label sk-toggleable\"><input class=\"sk-toggleable__control sk-hidden--visually\" id=\"sk-estimator-id-15\" type=\"checkbox\" ><label for=\"sk-estimator-id-15\" class=\"sk-toggleable__label sk-toggleable__label-arrow\">num_transformer</label><div class=\"sk-toggleable__content\"><pre>[&#x27;household_size&#x27;, &#x27;age_of_respondent&#x27;]</pre></div></div></div><div class=\"sk-serial\"><div class=\"sk-item\"><div class=\"sk-serial\"><div class=\"sk-item\"><div class=\"sk-estimator sk-toggleable\"><input class=\"sk-toggleable__control sk-hidden--visually\" id=\"sk-estimator-id-16\" type=\"checkbox\" ><label for=\"sk-estimator-id-16\" class=\"sk-toggleable__label sk-toggleable__label-arrow\">SimpleImputer</label><div class=\"sk-toggleable__content\"><pre>SimpleImputer()</pre></div></div></div><div class=\"sk-item\"><div class=\"sk-estimator sk-toggleable\"><input class=\"sk-toggleable__control sk-hidden--visually\" id=\"sk-estimator-id-17\" type=\"checkbox\" ><label for=\"sk-estimator-id-17\" class=\"sk-toggleable__label sk-toggleable__label-arrow\">StandardScaler</label><div class=\"sk-toggleable__content\"><pre>StandardScaler()</pre></div></div></div><div class=\"sk-item\"><div class=\"sk-estimator sk-toggleable\"><input class=\"sk-toggleable__control sk-hidden--visually\" id=\"sk-estimator-id-18\" type=\"checkbox\" ><label for=\"sk-estimator-id-18\" class=\"sk-toggleable__label sk-toggleable__label-arrow\">PolynomialFeatures</label><div class=\"sk-toggleable__content\"><pre>PolynomialFeatures(degree=3)</pre></div></div></div></div></div></div></div></div><div class=\"sk-parallel-item\"><div class=\"sk-item\"><div class=\"sk-label-container\"><div class=\"sk-label sk-toggleable\"><input class=\"sk-toggleable__control sk-hidden--visually\" id=\"sk-estimator-id-19\" type=\"checkbox\" ><label for=\"sk-estimator-id-19\" class=\"sk-toggleable__label sk-toggleable__label-arrow\">cat_transformer</label><div class=\"sk-toggleable__content\"><pre>[&#x27;location_type&#x27;, &#x27;cellphone_access&#x27;, &#x27;gender_of_respondent&#x27;, &#x27;marital_status&#x27;, &#x27;education_level&#x27;, &#x27;job_type&#x27;]</pre></div></div></div><div class=\"sk-serial\"><div class=\"sk-item\"><div class=\"sk-serial\"><div class=\"sk-item\"><div class=\"sk-estimator sk-toggleable\"><input class=\"sk-toggleable__control sk-hidden--visually\" id=\"sk-estimator-id-20\" type=\"checkbox\" ><label for=\"sk-estimator-id-20\" class=\"sk-toggleable__label sk-toggleable__label-arrow\">SimpleImputer</label><div class=\"sk-toggleable__content\"><pre>SimpleImputer(strategy=&#x27;most_frequent&#x27;)</pre></div></div></div><div class=\"sk-item\"><div class=\"sk-estimator sk-toggleable\"><input class=\"sk-toggleable__control sk-hidden--visually\" id=\"sk-estimator-id-21\" type=\"checkbox\" ><label for=\"sk-estimator-id-21\" class=\"sk-toggleable__label sk-toggleable__label-arrow\">OneHotEncoder</label><div class=\"sk-toggleable__content\"><pre>OneHotEncoder(drop=&#x27;first&#x27;, handle_unknown=&#x27;ignore&#x27;)</pre></div></div></div></div></div></div></div></div><div class=\"sk-parallel-item\"><div class=\"sk-item\"><div class=\"sk-label-container\"><div class=\"sk-label sk-toggleable\"><input class=\"sk-toggleable__control sk-hidden--visually\" id=\"sk-estimator-id-22\" type=\"checkbox\" ><label for=\"sk-estimator-id-22\" class=\"sk-toggleable__label sk-toggleable__label-arrow\">remainder</label><div class=\"sk-toggleable__content\"><pre>[]</pre></div></div></div><div class=\"sk-serial\"><div class=\"sk-item\"><div class=\"sk-estimator sk-toggleable\"><input class=\"sk-toggleable__control sk-hidden--visually\" id=\"sk-estimator-id-23\" type=\"checkbox\" ><label for=\"sk-estimator-id-23\" class=\"sk-toggleable__label sk-toggleable__label-arrow\">passthrough</label><div class=\"sk-toggleable__content\"><pre>passthrough</pre></div></div></div></div></div></div></div></div><div class=\"sk-item\"><div class=\"sk-estimator sk-toggleable\"><input class=\"sk-toggleable__control sk-hidden--visually\" id=\"sk-estimator-id-24\" type=\"checkbox\" ><label for=\"sk-estimator-id-24\" class=\"sk-toggleable__label sk-toggleable__label-arrow\">LogisticRegression</label><div class=\"sk-toggleable__content\"><pre>LogisticRegression(C=10.0, max_iter=10000, penalty=&#x27;l1&#x27;, solver=&#x27;saga&#x27;)</pre></div></div></div></div></div></div></div>"
      ],
      "text/plain": [
       "Pipeline(steps=[('preprocessor',\n",
       "                 ColumnTransformer(remainder='passthrough',\n",
       "                                   transformers=[('num_transformer',\n",
       "                                                  Pipeline(steps=[('imputer',\n",
       "                                                                   SimpleImputer()),\n",
       "                                                                  ('scaling',\n",
       "                                                                   StandardScaler()),\n",
       "                                                                  ('poly',\n",
       "                                                                   PolynomialFeatures(degree=3))]),\n",
=======
       "                                  &#x27;education_level&#x27;, &#x27;job_type&#x27;])])</pre></div></div></div><div class=\"sk-parallel\"><div class=\"sk-parallel-item\"><div class=\"sk-item\"><div class=\"sk-label-container\"><div class=\"sk-label sk-toggleable\"><input class=\"sk-toggleable__control sk-hidden--visually\" id=\"sk-estimator-id-22\" type=\"checkbox\" ><label for=\"sk-estimator-id-22\" class=\"sk-toggleable__label sk-toggleable__label-arrow\">num_transformer</label><div class=\"sk-toggleable__content\"><pre>[&#x27;household_size&#x27;, &#x27;age_of_respondent&#x27;]</pre></div></div></div><div class=\"sk-serial\"><div class=\"sk-item\"><div class=\"sk-serial\"><div class=\"sk-item\"><div class=\"sk-estimator sk-toggleable\"><input class=\"sk-toggleable__control sk-hidden--visually\" id=\"sk-estimator-id-23\" type=\"checkbox\" ><label for=\"sk-estimator-id-23\" class=\"sk-toggleable__label sk-toggleable__label-arrow\">SimpleImputer</label><div class=\"sk-toggleable__content\"><pre>SimpleImputer()</pre></div></div></div><div class=\"sk-item\"><div class=\"sk-estimator sk-toggleable\"><input class=\"sk-toggleable__control sk-hidden--visually\" id=\"sk-estimator-id-24\" type=\"checkbox\" ><label for=\"sk-estimator-id-24\" class=\"sk-toggleable__label sk-toggleable__label-arrow\">StandardScaler</label><div class=\"sk-toggleable__content\"><pre>StandardScaler()</pre></div></div></div></div></div></div></div></div><div class=\"sk-parallel-item\"><div class=\"sk-item\"><div class=\"sk-label-container\"><div class=\"sk-label sk-toggleable\"><input class=\"sk-toggleable__control sk-hidden--visually\" id=\"sk-estimator-id-25\" type=\"checkbox\" ><label for=\"sk-estimator-id-25\" class=\"sk-toggleable__label sk-toggleable__label-arrow\">cat_transformer</label><div class=\"sk-toggleable__content\"><pre>[&#x27;location_type&#x27;, &#x27;cellphone_access&#x27;, &#x27;gender_of_respondent&#x27;, &#x27;marital_status&#x27;, &#x27;education_level&#x27;, &#x27;job_type&#x27;]</pre></div></div></div><div class=\"sk-serial\"><div class=\"sk-item\"><div class=\"sk-serial\"><div class=\"sk-item\"><div class=\"sk-estimator sk-toggleable\"><input class=\"sk-toggleable__control sk-hidden--visually\" id=\"sk-estimator-id-26\" type=\"checkbox\" ><label for=\"sk-estimator-id-26\" class=\"sk-toggleable__label sk-toggleable__label-arrow\">SimpleImputer</label><div class=\"sk-toggleable__content\"><pre>SimpleImputer(strategy=&#x27;most_frequent&#x27;)</pre></div></div></div><div class=\"sk-item\"><div class=\"sk-estimator sk-toggleable\"><input class=\"sk-toggleable__control sk-hidden--visually\" id=\"sk-estimator-id-27\" type=\"checkbox\" ><label for=\"sk-estimator-id-27\" class=\"sk-toggleable__label sk-toggleable__label-arrow\">OneHotEncoder</label><div class=\"sk-toggleable__content\"><pre>OneHotEncoder(drop=&#x27;first&#x27;, handle_unknown=&#x27;ignore&#x27;)</pre></div></div></div></div></div></div></div></div></div></div><div class=\"sk-item\"><div class=\"sk-estimator sk-toggleable\"><input class=\"sk-toggleable__control sk-hidden--visually\" id=\"sk-estimator-id-28\" type=\"checkbox\" ><label for=\"sk-estimator-id-28\" class=\"sk-toggleable__label sk-toggleable__label-arrow\">LogisticRegression</label><div class=\"sk-toggleable__content\"><pre>LogisticRegression(max_iter=10000, penalty=&#x27;l1&#x27;, solver=&#x27;saga&#x27;)</pre></div></div></div></div></div></div></div>"
      ],
      "text/plain": [
       "Pipeline(steps=[('preprocessor',\n",
       "                 ColumnTransformer(transformers=[('num_transformer',\n",
       "                                                  Pipeline(steps=[('imputer',\n",
       "                                                                   SimpleImputer()),\n",
       "                                                                  ('scaling',\n",
       "                                                                   StandardScaler())]),\n",
>>>>>>> 0d0c885b2f88f61799e66ab47f1771d3e0ca0491
       "                                                  ['household_size',\n",
       "                                                   'age_of_respondent']),\n",
       "                                                 ('cat_transformer',\n",
       "                                                  Pipeline(steps=[('imputer',\n",
       "                                                                   SimpleImputer(strategy='most_frequent')),\n",
       "                                                                  ('onehot',\n",
       "                                                                   OneHotEncoder(drop='first',\n",
       "                                                                                 handle_unknown='ignore'))]),\n",
       "                                                  ['location_type',\n",
       "                                                   'cellphone_access',\n",
       "                                                   'gender_of_respondent',\n",
       "                                                   'marital_status',\n",
       "                                                   'education_level',\n",
       "                                                   'job_type'])])),\n",
       "                ('classifier',\n",
<<<<<<< HEAD
       "                 LogisticRegression(C=10.0, max_iter=10000, penalty='l1',\n",
       "                                    solver='saga'))])"
      ]
     },
     "execution_count": 25,
=======
       "                 LogisticRegression(max_iter=10000, penalty='l1',\n",
       "                                    solver='saga'))])"
      ]
     },
     "execution_count": 20,
>>>>>>> 0d0c885b2f88f61799e66ab47f1771d3e0ca0491
     "metadata": {},
     "output_type": "execute_result"
    }
   ],
   "source": [
    "best_model = gscv.best_estimator_\n",
    "best_model"
   ]
  },
  {
   "cell_type": "code",
<<<<<<< HEAD
   "execution_count": 26,
=======
   "execution_count": 21,
>>>>>>> 0d0c885b2f88f61799e66ab47f1771d3e0ca0491
   "id": "abccb182-18a1-4e9a-b8c0-aebe735c98e1",
   "metadata": {
    "tags": []
   },
   "outputs": [],
   "source": [
    "best_model.fit(X_train,y_train);"
   ]
  },
  {
   "cell_type": "code",
<<<<<<< HEAD
   "execution_count": 27,
=======
   "execution_count": 22,
>>>>>>> 0d0c885b2f88f61799e66ab47f1771d3e0ca0491
   "id": "db004052-378b-4bef-85e5-1978890cd264",
   "metadata": {
    "tags": []
   },
   "outputs": [
    {
     "name": "stdout",
     "output_type": "stream",
     "text": [
<<<<<<< HEAD
      "Train score: 0.882991\n",
      "Test score : 0.883316\n"
=======
      "Train score: 0.882364\n",
      "Test score : 0.884953\n"
>>>>>>> 0d0c885b2f88f61799e66ab47f1771d3e0ca0491
     ]
    }
   ],
   "source": [
    "training_score = best_model.score(X_train,y_train)\n",
    "\n",
    "# test score\n",
    "test_score = best_model.score(X_test,y_test)\n",
    "\n",
    "print(f'Train score: {round(training_score,6)}')\n",
    "print(f'Test score : {round(test_score,6)}')"
   ]
  },
  {
   "cell_type": "code",
<<<<<<< HEAD
   "execution_count": 28,
=======
   "execution_count": 23,
>>>>>>> 0d0c885b2f88f61799e66ab47f1771d3e0ca0491
   "id": "aefccc28-bd6a-4797-8f0e-893528fcbdbe",
   "metadata": {
    "tags": []
   },
   "outputs": [],
   "source": [
    "y_pred = best_model.predict(X_test)"
   ]
  },
  {
   "cell_type": "code",
<<<<<<< HEAD
   "execution_count": 29,
=======
   "execution_count": 24,
>>>>>>> 0d0c885b2f88f61799e66ab47f1771d3e0ca0491
   "id": "9b14d1ec-1d84-4157-bf7c-db8e77066ed4",
   "metadata": {
    "tags": []
   },
   "outputs": [
    {
     "name": "stdout",
     "output_type": "stream",
     "text": [
      "              precision    recall  f1-score   support\n",
      "\n",
<<<<<<< HEAD
      "           0       0.98      0.89      0.94      4428\n",
      "           1       0.29      0.70      0.42       277\n",
      "\n",
      "    accuracy                           0.88      4705\n",
      "   macro avg       0.64      0.80      0.68      4705\n",
      "weighted avg       0.94      0.88      0.90      4705\n",
=======
      "           0       0.98      0.90      0.94      6608\n",
      "           1       0.32      0.70      0.44       450\n",
      "\n",
      "    accuracy                           0.88      7058\n",
      "   macro avg       0.65      0.80      0.69      7058\n",
      "weighted avg       0.94      0.88      0.90      7058\n",
>>>>>>> 0d0c885b2f88f61799e66ab47f1771d3e0ca0491
      "\n"
     ]
    }
   ],
   "source": [
    "print(classification_report(y_pred, y_test))"
   ]
  },
  {
   "cell_type": "code",
   "execution_count": null,
   "id": "eda0b2f6-3214-405f-b496-3a927a8437c9",
   "metadata": {},
   "outputs": [],
   "source": []
  }
 ],
 "metadata": {
  "kernelspec": {
   "display_name": "Python 3 (ipykernel)",
   "language": "python",
   "name": "python3"
  },
  "language_info": {
   "codemirror_mode": {
    "name": "ipython",
    "version": 3
   },
   "file_extension": ".py",
   "mimetype": "text/x-python",
   "name": "python",
   "nbconvert_exporter": "python",
   "pygments_lexer": "ipython3",
   "version": "3.11.3"
  }
 },
 "nbformat": 4,
 "nbformat_minor": 5
}
